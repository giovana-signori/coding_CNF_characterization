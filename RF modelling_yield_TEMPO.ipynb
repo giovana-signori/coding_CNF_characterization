{
 "cells": [
  {
   "cell_type": "markdown",
   "id": "5e42b55a",
   "metadata": {},
   "source": [
    "## Modelling RANDOM FORESTS for yield of nanofibrillation prediction"
   ]
  },
  {
   "cell_type": "markdown",
   "id": "fee44c48",
   "metadata": {},
   "source": [
    "### Data pre processing"
   ]
  },
  {
   "cell_type": "code",
   "execution_count": 1,
   "id": "5256fd67",
   "metadata": {},
   "outputs": [],
   "source": [
    "#importing relevant libraries \n",
    "\n",
    "import pandas as pd\n",
    "import numpy as np \n",
    "import matplotlib.pyplot as plt\n",
    "import seaborn as sns\n",
    "\n",
    "# sklearn\n",
    "from sklearn.utils import shuffle\n",
    "from sklearn.model_selection import train_test_split\n",
    "from sklearn.ensemble import RandomForestRegressor\n",
    "from sklearn.linear_model import LinearRegression\n",
    "\n",
    "#Import relevant libraries for metrics (also from sklearn)\n",
    "\n",
    "from sklearn.metrics import r2_score\n",
    "from sklearn.metrics import mean_absolute_error\n",
    "from sklearn.metrics import mean_absolute_percentage_error\n",
    "from sklearn.metrics import mean_squared_error\n",
    "from sklearn.metrics import explained_variance_score\n",
    "\n",
    "# setting style of sns graphs\n",
    "sns.set_style('white')"
   ]
  },
  {
   "cell_type": "code",
   "execution_count": 2,
   "id": "466c5bf5",
   "metadata": {},
   "outputs": [],
   "source": [
    "import pickle  "
   ]
  },
  {
   "cell_type": "code",
   "execution_count": 3,
   "id": "46142888",
   "metadata": {
    "scrolled": true
   },
   "outputs": [
    {
     "data": {
      "text/html": [
       "<div>\n",
       "<style scoped>\n",
       "    .dataframe tbody tr th:only-of-type {\n",
       "        vertical-align: middle;\n",
       "    }\n",
       "\n",
       "    .dataframe tbody tr th {\n",
       "        vertical-align: top;\n",
       "    }\n",
       "\n",
       "    .dataframe thead th {\n",
       "        text-align: right;\n",
       "    }\n",
       "</style>\n",
       "<table border=\"1\" class=\"dataframe\">\n",
       "  <thead>\n",
       "    <tr style=\"text-align: right;\">\n",
       "      <th></th>\n",
       "      <th>ID</th>\n",
       "      <th>Sample</th>\n",
       "      <th>Transmittance at 600 nm at 0.1 wt.% (%)</th>\n",
       "      <th>Cat demand (μeq/g)</th>\n",
       "      <th>Viscosity (parameter K)</th>\n",
       "      <th>Accumulated energy (kWh/dry kg)</th>\n",
       "      <th>Yield (%)</th>\n",
       "    </tr>\n",
       "  </thead>\n",
       "  <tbody>\n",
       "    <tr>\n",
       "      <th>0</th>\n",
       "      <td>0</td>\n",
       "      <td>T5 3*3  0.5%</td>\n",
       "      <td>0.2300</td>\n",
       "      <td>1113.537568</td>\n",
       "      <td>39.974</td>\n",
       "      <td>35.569621</td>\n",
       "      <td>0.402</td>\n",
       "    </tr>\n",
       "    <tr>\n",
       "      <th>1</th>\n",
       "      <td>1</td>\n",
       "      <td>T5 3*3 + 3*6 0.5%</td>\n",
       "      <td>0.5440</td>\n",
       "      <td>1204.544454</td>\n",
       "      <td>197.200</td>\n",
       "      <td>67.152404</td>\n",
       "      <td>0.833</td>\n",
       "    </tr>\n",
       "    <tr>\n",
       "      <th>2</th>\n",
       "      <td>2</td>\n",
       "      <td>T5 3*3 + 3*6 +3*9 0.5%</td>\n",
       "      <td>0.8330</td>\n",
       "      <td>1235.317174</td>\n",
       "      <td>73.801</td>\n",
       "      <td>102.018657</td>\n",
       "      <td>0.923</td>\n",
       "    </tr>\n",
       "    <tr>\n",
       "      <th>3</th>\n",
       "      <td>3</td>\n",
       "      <td>T5 3*3  1% (With 1,5% fiber)</td>\n",
       "      <td>0.2320</td>\n",
       "      <td>1256.295919</td>\n",
       "      <td>107.460</td>\n",
       "      <td>16.093474</td>\n",
       "      <td>0.422</td>\n",
       "    </tr>\n",
       "    <tr>\n",
       "      <th>4</th>\n",
       "      <td>4</td>\n",
       "      <td>T5 3*3 + 3*6 1% (With 1,5% fiber)</td>\n",
       "      <td>0.5945</td>\n",
       "      <td>1417.310421</td>\n",
       "      <td>646.130</td>\n",
       "      <td>28.968899</td>\n",
       "      <td>0.860</td>\n",
       "    </tr>\n",
       "    <tr>\n",
       "      <th>5</th>\n",
       "      <td>5</td>\n",
       "      <td>T5 3*3 + 3*6 +3*9 1% (With 1,5% fiber)</td>\n",
       "      <td>0.8341</td>\n",
       "      <td>1319.968085</td>\n",
       "      <td>255.930</td>\n",
       "      <td>43.953874</td>\n",
       "      <td>0.935</td>\n",
       "    </tr>\n",
       "    <tr>\n",
       "      <th>6</th>\n",
       "      <td>6</td>\n",
       "      <td>T5 3*3  1.5%</td>\n",
       "      <td>0.2520</td>\n",
       "      <td>1225.271464</td>\n",
       "      <td>107.970</td>\n",
       "      <td>10.994256</td>\n",
       "      <td>0.397</td>\n",
       "    </tr>\n",
       "    <tr>\n",
       "      <th>7</th>\n",
       "      <td>7</td>\n",
       "      <td>T5 3*3 + 3*6 1.5%</td>\n",
       "      <td>0.5664</td>\n",
       "      <td>1228.284175</td>\n",
       "      <td>850.970</td>\n",
       "      <td>21.503336</td>\n",
       "      <td>0.843</td>\n",
       "    </tr>\n",
       "    <tr>\n",
       "      <th>8</th>\n",
       "      <td>8</td>\n",
       "      <td>T5 3*3 + 3*6 +3*9 1.5%</td>\n",
       "      <td>0.8123</td>\n",
       "      <td>1253.735568</td>\n",
       "      <td>471.470</td>\n",
       "      <td>34.268160</td>\n",
       "      <td>0.940</td>\n",
       "    </tr>\n",
       "    <tr>\n",
       "      <th>9</th>\n",
       "      <td>9</td>\n",
       "      <td>T5 3*3  2%</td>\n",
       "      <td>0.2890</td>\n",
       "      <td>1124.377617</td>\n",
       "      <td>202.480</td>\n",
       "      <td>11.048491</td>\n",
       "      <td>0.400</td>\n",
       "    </tr>\n",
       "    <tr>\n",
       "      <th>10</th>\n",
       "      <td>10</td>\n",
       "      <td>T5 3*3 + 3*6 2%</td>\n",
       "      <td>0.5294</td>\n",
       "      <td>1299.364299</td>\n",
       "      <td>2656.400</td>\n",
       "      <td>28.040006</td>\n",
       "      <td>0.800</td>\n",
       "    </tr>\n",
       "    <tr>\n",
       "      <th>11</th>\n",
       "      <td>11</td>\n",
       "      <td>T5 3*3 + 3*6 +3*9 2%</td>\n",
       "      <td>0.6940</td>\n",
       "      <td>1336.379268</td>\n",
       "      <td>1768.200</td>\n",
       "      <td>66.048579</td>\n",
       "      <td>0.950</td>\n",
       "    </tr>\n",
       "    <tr>\n",
       "      <th>12</th>\n",
       "      <td>12</td>\n",
       "      <td>T5 3*3  3%</td>\n",
       "      <td>0.2700</td>\n",
       "      <td>1353.992713</td>\n",
       "      <td>255.040</td>\n",
       "      <td>8.322475</td>\n",
       "      <td>0.350</td>\n",
       "    </tr>\n",
       "    <tr>\n",
       "      <th>13</th>\n",
       "      <td>13</td>\n",
       "      <td>T5 3*3 + 3*6  3%</td>\n",
       "      <td>0.4315</td>\n",
       "      <td>1414.360612</td>\n",
       "      <td>2654.700</td>\n",
       "      <td>249.851067</td>\n",
       "      <td>0.680</td>\n",
       "    </tr>\n",
       "  </tbody>\n",
       "</table>\n",
       "</div>"
      ],
      "text/plain": [
       "    ID                                  Sample  \\\n",
       "0    0                            T5 3*3  0.5%   \n",
       "1    1                       T5 3*3 + 3*6 0.5%   \n",
       "2    2                  T5 3*3 + 3*6 +3*9 0.5%   \n",
       "3    3            T5 3*3  1% (With 1,5% fiber)   \n",
       "4    4       T5 3*3 + 3*6 1% (With 1,5% fiber)   \n",
       "5    5  T5 3*3 + 3*6 +3*9 1% (With 1,5% fiber)   \n",
       "6    6                            T5 3*3  1.5%   \n",
       "7    7                       T5 3*3 + 3*6 1.5%   \n",
       "8    8                  T5 3*3 + 3*6 +3*9 1.5%   \n",
       "9    9                              T5 3*3  2%   \n",
       "10  10                         T5 3*3 + 3*6 2%   \n",
       "11  11                    T5 3*3 + 3*6 +3*9 2%   \n",
       "12  12                              T5 3*3  3%   \n",
       "13  13                        T5 3*3 + 3*6  3%   \n",
       "\n",
       "    Transmittance at 600 nm at 0.1 wt.% (%)  Cat demand (μeq/g)  \\\n",
       "0                                    0.2300         1113.537568   \n",
       "1                                    0.5440         1204.544454   \n",
       "2                                    0.8330         1235.317174   \n",
       "3                                    0.2320         1256.295919   \n",
       "4                                    0.5945         1417.310421   \n",
       "5                                    0.8341         1319.968085   \n",
       "6                                    0.2520         1225.271464   \n",
       "7                                    0.5664         1228.284175   \n",
       "8                                    0.8123         1253.735568   \n",
       "9                                    0.2890         1124.377617   \n",
       "10                                   0.5294         1299.364299   \n",
       "11                                   0.6940         1336.379268   \n",
       "12                                   0.2700         1353.992713   \n",
       "13                                   0.4315         1414.360612   \n",
       "\n",
       "    Viscosity (parameter K)  Accumulated energy (kWh/dry kg)  Yield (%)  \n",
       "0                    39.974                        35.569621      0.402  \n",
       "1                   197.200                        67.152404      0.833  \n",
       "2                    73.801                       102.018657      0.923  \n",
       "3                   107.460                        16.093474      0.422  \n",
       "4                   646.130                        28.968899      0.860  \n",
       "5                   255.930                        43.953874      0.935  \n",
       "6                   107.970                        10.994256      0.397  \n",
       "7                   850.970                        21.503336      0.843  \n",
       "8                   471.470                        34.268160      0.940  \n",
       "9                   202.480                        11.048491      0.400  \n",
       "10                 2656.400                        28.040006      0.800  \n",
       "11                 1768.200                        66.048579      0.950  \n",
       "12                  255.040                         8.322475      0.350  \n",
       "13                 2654.700                       249.851067      0.680  "
      ]
     },
     "execution_count": 3,
     "metadata": {},
     "output_type": "execute_result"
    }
   ],
   "source": [
    "# downloading to this notebook the excel file in a pd.dataframe format\n",
    "\n",
    "df = pd.read_excel(r\"C:\\Users\\giova\\dataset_TEMPO.xlsx\")\n",
    "\n",
    "df"
   ]
  },
  {
   "cell_type": "code",
   "execution_count": 4,
   "id": "7a5e4cb4",
   "metadata": {},
   "outputs": [
    {
     "data": {
      "text/plain": [
       "Index(['ID', 'Sample', 'Transmittance at 600 nm at 0.1 wt.% (%)',\n",
       "       'Cat demand (μeq/g)', 'Viscosity (parameter K)',\n",
       "       'Accumulated energy (kWh/dry kg)', 'Yield (%)'],\n",
       "      dtype='object')"
      ]
     },
     "execution_count": 4,
     "metadata": {},
     "output_type": "execute_result"
    }
   ],
   "source": [
    "df.columns"
   ]
  },
  {
   "cell_type": "code",
   "execution_count": 5,
   "id": "8ef5e621",
   "metadata": {},
   "outputs": [
    {
     "data": {
      "text/html": [
       "<div>\n",
       "<style scoped>\n",
       "    .dataframe tbody tr th:only-of-type {\n",
       "        vertical-align: middle;\n",
       "    }\n",
       "\n",
       "    .dataframe tbody tr th {\n",
       "        vertical-align: top;\n",
       "    }\n",
       "\n",
       "    .dataframe thead th {\n",
       "        text-align: right;\n",
       "    }\n",
       "</style>\n",
       "<table border=\"1\" class=\"dataframe\">\n",
       "  <thead>\n",
       "    <tr style=\"text-align: right;\">\n",
       "      <th></th>\n",
       "      <th>Transmittance at 600 nm at 0.1 wt.% (%)</th>\n",
       "      <th>Cat demand (μeq/g)</th>\n",
       "      <th>Viscosity (parameter K)</th>\n",
       "      <th>Accumulated energy (kWh/dry kg)</th>\n",
       "      <th>Yield (%)</th>\n",
       "    </tr>\n",
       "  </thead>\n",
       "  <tbody>\n",
       "    <tr>\n",
       "      <th>0</th>\n",
       "      <td>0.2300</td>\n",
       "      <td>1113.537568</td>\n",
       "      <td>39.974</td>\n",
       "      <td>35.569621</td>\n",
       "      <td>0.402</td>\n",
       "    </tr>\n",
       "    <tr>\n",
       "      <th>1</th>\n",
       "      <td>0.5440</td>\n",
       "      <td>1204.544454</td>\n",
       "      <td>197.200</td>\n",
       "      <td>67.152404</td>\n",
       "      <td>0.833</td>\n",
       "    </tr>\n",
       "    <tr>\n",
       "      <th>2</th>\n",
       "      <td>0.8330</td>\n",
       "      <td>1235.317174</td>\n",
       "      <td>73.801</td>\n",
       "      <td>102.018657</td>\n",
       "      <td>0.923</td>\n",
       "    </tr>\n",
       "    <tr>\n",
       "      <th>3</th>\n",
       "      <td>0.2320</td>\n",
       "      <td>1256.295919</td>\n",
       "      <td>107.460</td>\n",
       "      <td>16.093474</td>\n",
       "      <td>0.422</td>\n",
       "    </tr>\n",
       "    <tr>\n",
       "      <th>4</th>\n",
       "      <td>0.5945</td>\n",
       "      <td>1417.310421</td>\n",
       "      <td>646.130</td>\n",
       "      <td>28.968899</td>\n",
       "      <td>0.860</td>\n",
       "    </tr>\n",
       "    <tr>\n",
       "      <th>5</th>\n",
       "      <td>0.8341</td>\n",
       "      <td>1319.968085</td>\n",
       "      <td>255.930</td>\n",
       "      <td>43.953874</td>\n",
       "      <td>0.935</td>\n",
       "    </tr>\n",
       "    <tr>\n",
       "      <th>6</th>\n",
       "      <td>0.2520</td>\n",
       "      <td>1225.271464</td>\n",
       "      <td>107.970</td>\n",
       "      <td>10.994256</td>\n",
       "      <td>0.397</td>\n",
       "    </tr>\n",
       "    <tr>\n",
       "      <th>7</th>\n",
       "      <td>0.5664</td>\n",
       "      <td>1228.284175</td>\n",
       "      <td>850.970</td>\n",
       "      <td>21.503336</td>\n",
       "      <td>0.843</td>\n",
       "    </tr>\n",
       "    <tr>\n",
       "      <th>8</th>\n",
       "      <td>0.8123</td>\n",
       "      <td>1253.735568</td>\n",
       "      <td>471.470</td>\n",
       "      <td>34.268160</td>\n",
       "      <td>0.940</td>\n",
       "    </tr>\n",
       "    <tr>\n",
       "      <th>9</th>\n",
       "      <td>0.2890</td>\n",
       "      <td>1124.377617</td>\n",
       "      <td>202.480</td>\n",
       "      <td>11.048491</td>\n",
       "      <td>0.400</td>\n",
       "    </tr>\n",
       "    <tr>\n",
       "      <th>10</th>\n",
       "      <td>0.5294</td>\n",
       "      <td>1299.364299</td>\n",
       "      <td>2656.400</td>\n",
       "      <td>28.040006</td>\n",
       "      <td>0.800</td>\n",
       "    </tr>\n",
       "    <tr>\n",
       "      <th>11</th>\n",
       "      <td>0.6940</td>\n",
       "      <td>1336.379268</td>\n",
       "      <td>1768.200</td>\n",
       "      <td>66.048579</td>\n",
       "      <td>0.950</td>\n",
       "    </tr>\n",
       "    <tr>\n",
       "      <th>12</th>\n",
       "      <td>0.2700</td>\n",
       "      <td>1353.992713</td>\n",
       "      <td>255.040</td>\n",
       "      <td>8.322475</td>\n",
       "      <td>0.350</td>\n",
       "    </tr>\n",
       "    <tr>\n",
       "      <th>13</th>\n",
       "      <td>0.4315</td>\n",
       "      <td>1414.360612</td>\n",
       "      <td>2654.700</td>\n",
       "      <td>249.851067</td>\n",
       "      <td>0.680</td>\n",
       "    </tr>\n",
       "  </tbody>\n",
       "</table>\n",
       "</div>"
      ],
      "text/plain": [
       "    Transmittance at 600 nm at 0.1 wt.% (%)  Cat demand (μeq/g)  \\\n",
       "0                                    0.2300         1113.537568   \n",
       "1                                    0.5440         1204.544454   \n",
       "2                                    0.8330         1235.317174   \n",
       "3                                    0.2320         1256.295919   \n",
       "4                                    0.5945         1417.310421   \n",
       "5                                    0.8341         1319.968085   \n",
       "6                                    0.2520         1225.271464   \n",
       "7                                    0.5664         1228.284175   \n",
       "8                                    0.8123         1253.735568   \n",
       "9                                    0.2890         1124.377617   \n",
       "10                                   0.5294         1299.364299   \n",
       "11                                   0.6940         1336.379268   \n",
       "12                                   0.2700         1353.992713   \n",
       "13                                   0.4315         1414.360612   \n",
       "\n",
       "    Viscosity (parameter K)  Accumulated energy (kWh/dry kg)  Yield (%)  \n",
       "0                    39.974                        35.569621      0.402  \n",
       "1                   197.200                        67.152404      0.833  \n",
       "2                    73.801                       102.018657      0.923  \n",
       "3                   107.460                        16.093474      0.422  \n",
       "4                   646.130                        28.968899      0.860  \n",
       "5                   255.930                        43.953874      0.935  \n",
       "6                   107.970                        10.994256      0.397  \n",
       "7                   850.970                        21.503336      0.843  \n",
       "8                   471.470                        34.268160      0.940  \n",
       "9                   202.480                        11.048491      0.400  \n",
       "10                 2656.400                        28.040006      0.800  \n",
       "11                 1768.200                        66.048579      0.950  \n",
       "12                  255.040                         8.322475      0.350  \n",
       "13                 2654.700                       249.851067      0.680  "
      ]
     },
     "execution_count": 5,
     "metadata": {},
     "output_type": "execute_result"
    }
   ],
   "source": [
    "#we can get rid of the index column, once it is practically the same as the df index:\n",
    "\n",
    "df = df[['Transmittance at 600 nm at 0.1 wt.% (%)',\n",
    "       'Cat demand (μeq/g)', 'Viscosity (parameter K)',\n",
    "       'Accumulated energy (kWh/dry kg)', 'Yield (%)']].copy()\n",
    "df"
   ]
  },
  {
   "cell_type": "code",
   "execution_count": 6,
   "id": "6864166e",
   "metadata": {},
   "outputs": [],
   "source": [
    "X_df = df[['Transmittance at 600 nm at 0.1 wt.% (%)',\n",
    "       'Cat demand (μeq/g)', 'Viscosity (parameter K)',\n",
    "       'Accumulated energy (kWh/dry kg)']]\n",
    "y_df = df[['Yield (%)']]"
   ]
  },
  {
   "cell_type": "code",
   "execution_count": 7,
   "id": "ce8c4e9a",
   "metadata": {},
   "outputs": [],
   "source": [
    "X_train, X_test, y_train, y_test = train_test_split(X_df, y_df,\n",
    "                                                        test_size = 0.34,\n",
    "                                                        random_state =8\n",
    "                                                       )"
   ]
  },
  {
   "cell_type": "code",
   "execution_count": 8,
   "id": "385c1d40",
   "metadata": {},
   "outputs": [
    {
     "data": {
      "text/html": [
       "<div>\n",
       "<style scoped>\n",
       "    .dataframe tbody tr th:only-of-type {\n",
       "        vertical-align: middle;\n",
       "    }\n",
       "\n",
       "    .dataframe tbody tr th {\n",
       "        vertical-align: top;\n",
       "    }\n",
       "\n",
       "    .dataframe thead th {\n",
       "        text-align: right;\n",
       "    }\n",
       "</style>\n",
       "<table border=\"1\" class=\"dataframe\">\n",
       "  <thead>\n",
       "    <tr style=\"text-align: right;\">\n",
       "      <th></th>\n",
       "      <th>Transmittance at 600 nm at 0.1 wt.% (%)</th>\n",
       "      <th>Cat demand (μeq/g)</th>\n",
       "      <th>Viscosity (parameter K)</th>\n",
       "      <th>Accumulated energy (kWh/dry kg)</th>\n",
       "    </tr>\n",
       "  </thead>\n",
       "  <tbody>\n",
       "    <tr>\n",
       "      <th>6</th>\n",
       "      <td>0.2520</td>\n",
       "      <td>1225.271464</td>\n",
       "      <td>107.970</td>\n",
       "      <td>10.994256</td>\n",
       "    </tr>\n",
       "    <tr>\n",
       "      <th>0</th>\n",
       "      <td>0.2300</td>\n",
       "      <td>1113.537568</td>\n",
       "      <td>39.974</td>\n",
       "      <td>35.569621</td>\n",
       "    </tr>\n",
       "    <tr>\n",
       "      <th>13</th>\n",
       "      <td>0.4315</td>\n",
       "      <td>1414.360612</td>\n",
       "      <td>2654.700</td>\n",
       "      <td>249.851067</td>\n",
       "    </tr>\n",
       "    <tr>\n",
       "      <th>8</th>\n",
       "      <td>0.8123</td>\n",
       "      <td>1253.735568</td>\n",
       "      <td>471.470</td>\n",
       "      <td>34.268160</td>\n",
       "    </tr>\n",
       "    <tr>\n",
       "      <th>5</th>\n",
       "      <td>0.8341</td>\n",
       "      <td>1319.968085</td>\n",
       "      <td>255.930</td>\n",
       "      <td>43.953874</td>\n",
       "    </tr>\n",
       "    <tr>\n",
       "      <th>9</th>\n",
       "      <td>0.2890</td>\n",
       "      <td>1124.377617</td>\n",
       "      <td>202.480</td>\n",
       "      <td>11.048491</td>\n",
       "    </tr>\n",
       "    <tr>\n",
       "      <th>1</th>\n",
       "      <td>0.5440</td>\n",
       "      <td>1204.544454</td>\n",
       "      <td>197.200</td>\n",
       "      <td>67.152404</td>\n",
       "    </tr>\n",
       "    <tr>\n",
       "      <th>4</th>\n",
       "      <td>0.5945</td>\n",
       "      <td>1417.310421</td>\n",
       "      <td>646.130</td>\n",
       "      <td>28.968899</td>\n",
       "    </tr>\n",
       "    <tr>\n",
       "      <th>3</th>\n",
       "      <td>0.2320</td>\n",
       "      <td>1256.295919</td>\n",
       "      <td>107.460</td>\n",
       "      <td>16.093474</td>\n",
       "    </tr>\n",
       "  </tbody>\n",
       "</table>\n",
       "</div>"
      ],
      "text/plain": [
       "    Transmittance at 600 nm at 0.1 wt.% (%)  Cat demand (μeq/g)  \\\n",
       "6                                    0.2520         1225.271464   \n",
       "0                                    0.2300         1113.537568   \n",
       "13                                   0.4315         1414.360612   \n",
       "8                                    0.8123         1253.735568   \n",
       "5                                    0.8341         1319.968085   \n",
       "9                                    0.2890         1124.377617   \n",
       "1                                    0.5440         1204.544454   \n",
       "4                                    0.5945         1417.310421   \n",
       "3                                    0.2320         1256.295919   \n",
       "\n",
       "    Viscosity (parameter K)  Accumulated energy (kWh/dry kg)  \n",
       "6                   107.970                        10.994256  \n",
       "0                    39.974                        35.569621  \n",
       "13                 2654.700                       249.851067  \n",
       "8                   471.470                        34.268160  \n",
       "5                   255.930                        43.953874  \n",
       "9                   202.480                        11.048491  \n",
       "1                   197.200                        67.152404  \n",
       "4                   646.130                        28.968899  \n",
       "3                   107.460                        16.093474  "
      ]
     },
     "execution_count": 8,
     "metadata": {},
     "output_type": "execute_result"
    }
   ],
   "source": [
    "X_train"
   ]
  },
  {
   "cell_type": "code",
   "execution_count": 9,
   "id": "f365dc9b",
   "metadata": {},
   "outputs": [
    {
     "data": {
      "text/html": [
       "<div>\n",
       "<style scoped>\n",
       "    .dataframe tbody tr th:only-of-type {\n",
       "        vertical-align: middle;\n",
       "    }\n",
       "\n",
       "    .dataframe tbody tr th {\n",
       "        vertical-align: top;\n",
       "    }\n",
       "\n",
       "    .dataframe thead th {\n",
       "        text-align: right;\n",
       "    }\n",
       "</style>\n",
       "<table border=\"1\" class=\"dataframe\">\n",
       "  <thead>\n",
       "    <tr style=\"text-align: right;\">\n",
       "      <th></th>\n",
       "      <th>Yield (%)</th>\n",
       "    </tr>\n",
       "  </thead>\n",
       "  <tbody>\n",
       "    <tr>\n",
       "      <th>6</th>\n",
       "      <td>0.397</td>\n",
       "    </tr>\n",
       "    <tr>\n",
       "      <th>0</th>\n",
       "      <td>0.402</td>\n",
       "    </tr>\n",
       "    <tr>\n",
       "      <th>13</th>\n",
       "      <td>0.680</td>\n",
       "    </tr>\n",
       "    <tr>\n",
       "      <th>8</th>\n",
       "      <td>0.940</td>\n",
       "    </tr>\n",
       "    <tr>\n",
       "      <th>5</th>\n",
       "      <td>0.935</td>\n",
       "    </tr>\n",
       "    <tr>\n",
       "      <th>9</th>\n",
       "      <td>0.400</td>\n",
       "    </tr>\n",
       "    <tr>\n",
       "      <th>1</th>\n",
       "      <td>0.833</td>\n",
       "    </tr>\n",
       "    <tr>\n",
       "      <th>4</th>\n",
       "      <td>0.860</td>\n",
       "    </tr>\n",
       "    <tr>\n",
       "      <th>3</th>\n",
       "      <td>0.422</td>\n",
       "    </tr>\n",
       "  </tbody>\n",
       "</table>\n",
       "</div>"
      ],
      "text/plain": [
       "    Yield (%)\n",
       "6       0.397\n",
       "0       0.402\n",
       "13      0.680\n",
       "8       0.940\n",
       "5       0.935\n",
       "9       0.400\n",
       "1       0.833\n",
       "4       0.860\n",
       "3       0.422"
      ]
     },
     "execution_count": 9,
     "metadata": {},
     "output_type": "execute_result"
    }
   ],
   "source": [
    "y_train"
   ]
  },
  {
   "cell_type": "code",
   "execution_count": 16,
   "id": "437e3ef7",
   "metadata": {},
   "outputs": [
    {
     "name": "stdout",
     "output_type": "stream",
     "text": [
      "R2 score: 0.9629278284164817\n",
      "MAE: 0.04094666666666661\n",
      "MAPE: 0.06785104862099542\n",
      "RSME: 0.04463983945610324\n"
     ]
    },
    {
     "data": {
      "image/png": "[encoded data removed]",
      "text/plain": [
       "<Figure size 640x480 with 1 Axes>"
      ]
     },
     "metadata": {},
     "output_type": "display_data"
    }
   ],
   "source": [
    "RF_randomodel_v1 = RandomForestRegressor(random_state=0)\n",
    "RF_randomodel_v1.fit(X_train, y_train.values.ravel())\n",
    "pred_RF_v1 = RF_randomodel_v1.predict(X_train)\n",
    "\n",
    "print(\"R2 score:\", r2_score(y_train, pred_RF_v1))\n",
    "print(\"MAE:\", mean_absolute_error(y_train, pred_RF_v1))\n",
    "print(\"MAPE:\", mean_absolute_percentage_error(y_train, pred_RF_v1))\n",
    "print(\"RSME:\", mean_squared_error(y_train, pred_RF_v1, squared = False))\n",
    "\n",
    "fig, ax = plt.subplots()\n",
    "ax.scatter(y_train, pred_RF_v1, edgecolors=(0, 0, 0))\n",
    "ax.plot([y_train.min(), y_train.max()], [y_train.min(), y_train.max()], \"k--\", lw=2)\n",
    "ax.set_xlabel(\"Measured\")\n",
    "ax.set_ylabel(\"Predicted\")\n",
    "plt.show()"
   ]
  },
  {
   "cell_type": "code",
   "execution_count": 23,
   "id": "1eefb6c1",
   "metadata": {},
   "outputs": [],
   "source": [
    "#training score highly related to the samples that go to the training set\n",
    "#also, maybe putting number of passes (like a code for that) could increase the models prediction capacity (most probably)"
   ]
  },
  {
   "cell_type": "code",
   "execution_count": 18,
   "id": "7739046a",
   "metadata": {
    "scrolled": false
   },
   "outputs": [
    {
     "data": {
      "text/html": [
       "<div>\n",
       "<style scoped>\n",
       "    .dataframe tbody tr th:only-of-type {\n",
       "        vertical-align: middle;\n",
       "    }\n",
       "\n",
       "    .dataframe tbody tr th {\n",
       "        vertical-align: top;\n",
       "    }\n",
       "\n",
       "    .dataframe thead th {\n",
       "        text-align: right;\n",
       "    }\n",
       "</style>\n",
       "<table border=\"1\" class=\"dataframe\">\n",
       "  <thead>\n",
       "    <tr style=\"text-align: right;\">\n",
       "      <th></th>\n",
       "      <th>Yield (%)</th>\n",
       "    </tr>\n",
       "  </thead>\n",
       "  <tbody>\n",
       "    <tr>\n",
       "      <th>6</th>\n",
       "      <td>0.397</td>\n",
       "    </tr>\n",
       "    <tr>\n",
       "      <th>0</th>\n",
       "      <td>0.402</td>\n",
       "    </tr>\n",
       "    <tr>\n",
       "      <th>13</th>\n",
       "      <td>0.680</td>\n",
       "    </tr>\n",
       "    <tr>\n",
       "      <th>8</th>\n",
       "      <td>0.940</td>\n",
       "    </tr>\n",
       "    <tr>\n",
       "      <th>5</th>\n",
       "      <td>0.935</td>\n",
       "    </tr>\n",
       "    <tr>\n",
       "      <th>9</th>\n",
       "      <td>0.400</td>\n",
       "    </tr>\n",
       "    <tr>\n",
       "      <th>1</th>\n",
       "      <td>0.833</td>\n",
       "    </tr>\n",
       "    <tr>\n",
       "      <th>4</th>\n",
       "      <td>0.860</td>\n",
       "    </tr>\n",
       "    <tr>\n",
       "      <th>3</th>\n",
       "      <td>0.422</td>\n",
       "    </tr>\n",
       "  </tbody>\n",
       "</table>\n",
       "</div>"
      ],
      "text/plain": [
       "    Yield (%)\n",
       "6       0.397\n",
       "0       0.402\n",
       "13      0.680\n",
       "8       0.940\n",
       "5       0.935\n",
       "9       0.400\n",
       "1       0.833\n",
       "4       0.860\n",
       "3       0.422"
      ]
     },
     "execution_count": 18,
     "metadata": {},
     "output_type": "execute_result"
    }
   ],
   "source": [
    "y_train"
   ]
  },
  {
   "cell_type": "code",
   "execution_count": 19,
   "id": "abf2320a",
   "metadata": {},
   "outputs": [
    {
     "data": {
      "text/plain": [
       "array([0.42667, 0.44099, 0.74852, 0.88345, 0.90477, 0.43943, 0.76647,\n",
       "       0.83992, 0.44052])"
      ]
     },
     "execution_count": 19,
     "metadata": {},
     "output_type": "execute_result"
    }
   ],
   "source": [
    "pred_RF_v1"
   ]
  },
  {
   "cell_type": "code",
   "execution_count": 20,
   "id": "3a39a768",
   "metadata": {},
   "outputs": [
    {
     "name": "stdout",
     "output_type": "stream",
     "text": [
      "R2 score: 0.7211027129018899\n",
      "MAE: 0.09864399999999987\n",
      "MAPE: 0.17212653220901578\n",
      "RSME: 0.11531299302333606\n"
     ]
    },
    {
     "data": {
      "image/png": "[encoded data removed]",
      "text/plain": [
       "<Figure size 640x480 with 1 Axes>"
      ]
     },
     "metadata": {},
     "output_type": "display_data"
    }
   ],
   "source": [
    "# fazendo o teste com test subset \n",
    "pred_test_RF_v1 = RF_randomodel_v1.predict(X_test)\n",
    "\n",
    "print(\"R2 score:\", r2_score(y_test, pred_test_RF_v1))\n",
    "print(\"MAE:\", mean_absolute_error(y_test, pred_test_RF_v1))\n",
    "print(\"MAPE:\", mean_absolute_percentage_error(y_test, pred_test_RF_v1))\n",
    "print(\"RSME:\", mean_squared_error(y_test, pred_test_RF_v1, squared = False))\n",
    "\n",
    "fig, ax = plt.subplots()\n",
    "ax.scatter(y_test, pred_test_RF_v1, edgecolors=(0, 0, 0))\n",
    "ax.plot([y_test.min(), y_test.max()], [y_test.min(), y_test.max()], \"k--\", lw=2)\n",
    "ax.set_xlabel(\"Measured\")\n",
    "ax.set_ylabel(\"Predicted\")\n",
    "plt.show()"
   ]
  },
  {
   "cell_type": "code",
   "execution_count": 21,
   "id": "07dd8c6c",
   "metadata": {},
   "outputs": [
    {
     "data": {
      "text/html": [
       "<div>\n",
       "<style scoped>\n",
       "    .dataframe tbody tr th:only-of-type {\n",
       "        vertical-align: middle;\n",
       "    }\n",
       "\n",
       "    .dataframe tbody tr th {\n",
       "        vertical-align: top;\n",
       "    }\n",
       "\n",
       "    .dataframe thead th {\n",
       "        text-align: right;\n",
       "    }\n",
       "</style>\n",
       "<table border=\"1\" class=\"dataframe\">\n",
       "  <thead>\n",
       "    <tr style=\"text-align: right;\">\n",
       "      <th></th>\n",
       "      <th>Yield (%)</th>\n",
       "    </tr>\n",
       "  </thead>\n",
       "  <tbody>\n",
       "    <tr>\n",
       "      <th>10</th>\n",
       "      <td>0.800</td>\n",
       "    </tr>\n",
       "    <tr>\n",
       "      <th>7</th>\n",
       "      <td>0.843</td>\n",
       "    </tr>\n",
       "    <tr>\n",
       "      <th>2</th>\n",
       "      <td>0.923</td>\n",
       "    </tr>\n",
       "    <tr>\n",
       "      <th>11</th>\n",
       "      <td>0.950</td>\n",
       "    </tr>\n",
       "    <tr>\n",
       "      <th>12</th>\n",
       "      <td>0.350</td>\n",
       "    </tr>\n",
       "  </tbody>\n",
       "</table>\n",
       "</div>"
      ],
      "text/plain": [
       "    Yield (%)\n",
       "10      0.800\n",
       "7       0.843\n",
       "2       0.923\n",
       "11      0.950\n",
       "12      0.350"
      ]
     },
     "execution_count": 21,
     "metadata": {},
     "output_type": "execute_result"
    }
   ],
   "source": [
    "y_test"
   ]
  },
  {
   "cell_type": "code",
   "execution_count": 25,
   "id": "493f8fc0",
   "metadata": {},
   "outputs": [
    {
     "data": {
      "text/plain": [
       "array([0.80827, 0.78042, 0.78562, 0.84635, 0.53134])"
      ]
     },
     "execution_count": 25,
     "metadata": {},
     "output_type": "execute_result"
    }
   ],
   "source": [
    "pred_test_RF_v1"
   ]
  },
  {
   "cell_type": "code",
   "execution_count": 28,
   "id": "8011706d",
   "metadata": {},
   "outputs": [
    {
     "data": {
      "image/png": "[encoded data removed]",
      "text/plain": [
       "<Figure size 640x480 with 1 Axes>"
      ]
     },
     "metadata": {},
     "output_type": "display_data"
    }
   ],
   "source": [
    "#vendo a feature importance\n",
    "\n",
    "feat_importances_model_RF = pd.Series(RF_randomodel_v1.feature_importances_, index=X_df.columns)\n",
    "feat_importances_model_RF.nlargest(4).plot(kind='barh');\n",
    "    "
   ]
  },
  {
   "cell_type": "code",
   "execution_count": 30,
   "id": "431d3642",
   "metadata": {},
   "outputs": [],
   "source": [
    "#provando sem a demanda cationica primeiro (a principio nao muda tanto)"
   ]
  },
  {
   "cell_type": "code",
   "execution_count": 10,
   "id": "5b8b75a3",
   "metadata": {},
   "outputs": [],
   "source": [
    "X_df_2 = df[['Transmittance at 600 nm at 0.1 wt.% (%)',\n",
    "        'Viscosity (parameter K)',\n",
    "       'Accumulated energy (kWh/dry kg)']]"
   ]
  },
  {
   "cell_type": "code",
   "execution_count": 11,
   "id": "148b8ca1",
   "metadata": {},
   "outputs": [],
   "source": [
    "X_train_2 = X_df_2.loc[[6,0,13,8,5,9,1,4,3]]\n",
    "y_train_2 = y_df.loc[[6,0,13,8,5,9,1,4,3]]"
   ]
  },
  {
   "cell_type": "code",
   "execution_count": 12,
   "id": "5826c146",
   "metadata": {},
   "outputs": [],
   "source": [
    "X_test_2 = X_df_2.loc[[10,7,2,11,12]]\n",
    "y_test_2 = y_df.loc[[10,7,2,11,12]]"
   ]
  },
  {
   "cell_type": "code",
   "execution_count": 34,
   "id": "70e16190",
   "metadata": {},
   "outputs": [
    {
     "name": "stdout",
     "output_type": "stream",
     "text": [
      "R2 score: 0.9728095821759519\n",
      "MAE: 0.03282222222222227\n",
      "MAPE: 0.05478878971761266\n",
      "RSME: 0.03823019836028409\n"
     ]
    },
    {
     "data": {
      "image/png": "[encoded data removed]",
      "text/plain": [
       "<Figure size 640x480 with 1 Axes>"
      ]
     },
     "metadata": {},
     "output_type": "display_data"
    }
   ],
   "source": [
    "RF_randomodel_v2 = RandomForestRegressor(random_state=0)\n",
    "RF_randomodel_v2.fit(X_train_2, y_train_2.values.ravel())\n",
    "pred_RF_v2 = RF_randomodel_v2.predict(X_train_2)\n",
    "\n",
    "print(\"R2 score:\", r2_score(y_train_2, pred_RF_v2))\n",
    "print(\"MAE:\", mean_absolute_error(y_train_2, pred_RF_v2))\n",
    "print(\"MAPE:\", mean_absolute_percentage_error(y_train_2, pred_RF_v2))\n",
    "print(\"RSME:\", mean_squared_error(y_train_2, pred_RF_v2, squared = False))\n",
    "\n",
    "fig, ax = plt.subplots()\n",
    "ax.scatter(y_train_2, pred_RF_v2, edgecolors=(0, 0, 0))\n",
    "ax.plot([y_train_2.min(), y_train_2.max()], [y_train_2.min(), y_train_2.max()], \"k--\", lw=2)\n",
    "ax.set_xlabel(\"Measured\")\n",
    "ax.set_ylabel(\"Predicted\")\n",
    "plt.show()"
   ]
  },
  {
   "cell_type": "code",
   "execution_count": 35,
   "id": "12f0ad9d",
   "metadata": {
    "scrolled": false
   },
   "outputs": [
    {
     "data": {
      "text/html": [
       "<div>\n",
       "<style scoped>\n",
       "    .dataframe tbody tr th:only-of-type {\n",
       "        vertical-align: middle;\n",
       "    }\n",
       "\n",
       "    .dataframe tbody tr th {\n",
       "        vertical-align: top;\n",
       "    }\n",
       "\n",
       "    .dataframe thead th {\n",
       "        text-align: right;\n",
       "    }\n",
       "</style>\n",
       "<table border=\"1\" class=\"dataframe\">\n",
       "  <thead>\n",
       "    <tr style=\"text-align: right;\">\n",
       "      <th></th>\n",
       "      <th>Yield (%)</th>\n",
       "    </tr>\n",
       "  </thead>\n",
       "  <tbody>\n",
       "    <tr>\n",
       "      <th>6</th>\n",
       "      <td>0.397</td>\n",
       "    </tr>\n",
       "    <tr>\n",
       "      <th>0</th>\n",
       "      <td>0.402</td>\n",
       "    </tr>\n",
       "    <tr>\n",
       "      <th>13</th>\n",
       "      <td>0.680</td>\n",
       "    </tr>\n",
       "    <tr>\n",
       "      <th>8</th>\n",
       "      <td>0.940</td>\n",
       "    </tr>\n",
       "    <tr>\n",
       "      <th>5</th>\n",
       "      <td>0.935</td>\n",
       "    </tr>\n",
       "    <tr>\n",
       "      <th>9</th>\n",
       "      <td>0.400</td>\n",
       "    </tr>\n",
       "    <tr>\n",
       "      <th>1</th>\n",
       "      <td>0.833</td>\n",
       "    </tr>\n",
       "    <tr>\n",
       "      <th>4</th>\n",
       "      <td>0.860</td>\n",
       "    </tr>\n",
       "    <tr>\n",
       "      <th>3</th>\n",
       "      <td>0.422</td>\n",
       "    </tr>\n",
       "  </tbody>\n",
       "</table>\n",
       "</div>"
      ],
      "text/plain": [
       "    Yield (%)\n",
       "6       0.397\n",
       "0       0.402\n",
       "13      0.680\n",
       "8       0.940\n",
       "5       0.935\n",
       "9       0.400\n",
       "1       0.833\n",
       "4       0.860\n",
       "3       0.422"
      ]
     },
     "execution_count": 35,
     "metadata": {},
     "output_type": "execute_result"
    }
   ],
   "source": [
    "y_train_2"
   ]
  },
  {
   "cell_type": "code",
   "execution_count": 36,
   "id": "0972ab94",
   "metadata": {},
   "outputs": [
    {
     "data": {
      "text/plain": [
       "array([0.40282, 0.44121, 0.72667, 0.90882, 0.88847, 0.45333, 0.77548,\n",
       "       0.85261, 0.41425])"
      ]
     },
     "execution_count": 36,
     "metadata": {},
     "output_type": "execute_result"
    }
   ],
   "source": [
    "pred_RF_v2"
   ]
  },
  {
   "cell_type": "code",
   "execution_count": 37,
   "id": "d9c6b472",
   "metadata": {},
   "outputs": [
    {
     "name": "stdout",
     "output_type": "stream",
     "text": [
      "R2 score: 0.77734639459903\n",
      "MAE: 0.08412599999999999\n",
      "MAPE: 0.13924188818970923\n",
      "RSME: 0.10303172375535602\n"
     ]
    },
    {
     "data": {
      "image/png": "[encoded data removed]",
      "text/plain": [
       "<Figure size 640x480 with 1 Axes>"
      ]
     },
     "metadata": {},
     "output_type": "display_data"
    }
   ],
   "source": [
    "# fazendo o teste com test subset \n",
    "pred_test_RF_v2 = RF_randomodel_v2.predict(X_test_2)\n",
    "\n",
    "print(\"R2 score:\", r2_score(y_test_2, pred_test_RF_v2))\n",
    "print(\"MAE:\", mean_absolute_error(y_test_2, pred_test_RF_v2))\n",
    "print(\"MAPE:\", mean_absolute_percentage_error(y_test_2, pred_test_RF_v2))\n",
    "print(\"RSME:\", mean_squared_error(y_test_2, pred_test_RF_v2, squared = False))\n",
    "\n",
    "fig, ax = plt.subplots()\n",
    "ax.scatter(y_test_2, pred_test_RF_v2, edgecolors=(0, 0, 0))\n",
    "ax.plot([y_test_2.min(), y_test_2.max()], [y_test_2.min(), y_test_2.max()], \"k--\", lw=2)\n",
    "ax.set_xlabel(\"Measured\")\n",
    "ax.set_ylabel(\"Predicted\")\n",
    "plt.show()"
   ]
  },
  {
   "cell_type": "code",
   "execution_count": 38,
   "id": "c99f5250",
   "metadata": {},
   "outputs": [
    {
     "data": {
      "text/html": [
       "<div>\n",
       "<style scoped>\n",
       "    .dataframe tbody tr th:only-of-type {\n",
       "        vertical-align: middle;\n",
       "    }\n",
       "\n",
       "    .dataframe tbody tr th {\n",
       "        vertical-align: top;\n",
       "    }\n",
       "\n",
       "    .dataframe thead th {\n",
       "        text-align: right;\n",
       "    }\n",
       "</style>\n",
       "<table border=\"1\" class=\"dataframe\">\n",
       "  <thead>\n",
       "    <tr style=\"text-align: right;\">\n",
       "      <th></th>\n",
       "      <th>Yield (%)</th>\n",
       "    </tr>\n",
       "  </thead>\n",
       "  <tbody>\n",
       "    <tr>\n",
       "      <th>10</th>\n",
       "      <td>0.800</td>\n",
       "    </tr>\n",
       "    <tr>\n",
       "      <th>7</th>\n",
       "      <td>0.843</td>\n",
       "    </tr>\n",
       "    <tr>\n",
       "      <th>2</th>\n",
       "      <td>0.923</td>\n",
       "    </tr>\n",
       "    <tr>\n",
       "      <th>11</th>\n",
       "      <td>0.950</td>\n",
       "    </tr>\n",
       "    <tr>\n",
       "      <th>12</th>\n",
       "      <td>0.350</td>\n",
       "    </tr>\n",
       "  </tbody>\n",
       "</table>\n",
       "</div>"
      ],
      "text/plain": [
       "    Yield (%)\n",
       "10      0.800\n",
       "7       0.843\n",
       "2       0.923\n",
       "11      0.950\n",
       "12      0.350"
      ]
     },
     "execution_count": 38,
     "metadata": {},
     "output_type": "execute_result"
    }
   ],
   "source": [
    "y_test_2"
   ]
  },
  {
   "cell_type": "code",
   "execution_count": 39,
   "id": "27b8ae3a",
   "metadata": {},
   "outputs": [
    {
     "data": {
      "text/plain": [
       "array([0.80329, 0.81521, 0.76705, 0.85177, 0.48537])"
      ]
     },
     "execution_count": 39,
     "metadata": {},
     "output_type": "execute_result"
    }
   ],
   "source": [
    "pred_test_RF_v2"
   ]
  },
  {
   "cell_type": "code",
   "execution_count": 40,
   "id": "64569a17",
   "metadata": {},
   "outputs": [],
   "source": [
    "#provavelmente tirar a demanda cationica ajudou um pouco o modelo a nao se confundir tanto, ja que eram muito parecidas entre as amostras"
   ]
  },
  {
   "cell_type": "code",
   "execution_count": 41,
   "id": "b1b875c7",
   "metadata": {},
   "outputs": [
    {
     "data": {
      "image/png": "[encoded data removed]",
      "text/plain": [
       "<Figure size 640x480 with 1 Axes>"
      ]
     },
     "metadata": {},
     "output_type": "display_data"
    }
   ],
   "source": [
    "#vendo a feature importance\n",
    "\n",
    "feat_importances_model_RF = pd.Series(RF_randomodel_v2.feature_importances_, index=X_df_2.columns)\n",
    "feat_importances_model_RF.nlargest(7).plot(kind='barh');"
   ]
  },
  {
   "cell_type": "code",
   "execution_count": 43,
   "id": "0807fb51",
   "metadata": {},
   "outputs": [],
   "source": [
    "#provando sem o accumulated energy"
   ]
  },
  {
   "cell_type": "code",
   "execution_count": 44,
   "id": "e6bceddb",
   "metadata": {},
   "outputs": [],
   "source": [
    "X_df_2 = df[['Transmittance at 600 nm at 0.1 wt.% (%)',\n",
    "        'Viscosity (parameter K)']]"
   ]
  },
  {
   "cell_type": "code",
   "execution_count": 45,
   "id": "6cced96d",
   "metadata": {},
   "outputs": [],
   "source": [
    "X_train_2 = X_df_2.loc[[6,0,13,8,5,9,1,4,3]]\n",
    "y_train_2 = y_df.loc[[6,0,13,8,5,9,1,4,3]]"
   ]
  },
  {
   "cell_type": "code",
   "execution_count": 46,
   "id": "230635dc",
   "metadata": {},
   "outputs": [],
   "source": [
    "X_test_2 = X_df_2.loc[[10,7,2,11,12]]\n",
    "y_test_2 = y_df.loc[[10,7,2,11,12]]"
   ]
  },
  {
   "cell_type": "code",
   "execution_count": 47,
   "id": "54559f90",
   "metadata": {},
   "outputs": [
    {
     "name": "stdout",
     "output_type": "stream",
     "text": [
      "R2 score: 0.9790622422046433\n",
      "MAE: 0.02603222222222214\n",
      "MAPE: 0.04215630587405425\n",
      "RSME: 0.03354777306734042\n"
     ]
    },
    {
     "data": {
      "image/png": "[encoded data removed]",
      "text/plain": [
       "<Figure size 640x480 with 1 Axes>"
      ]
     },
     "metadata": {},
     "output_type": "display_data"
    }
   ],
   "source": [
    "RF_randomodel_v2 = RandomForestRegressor(random_state=0)\n",
    "RF_randomodel_v2.fit(X_train_2, y_train_2.values.ravel())\n",
    "pred_RF_v2 = RF_randomodel_v2.predict(X_train_2)\n",
    "\n",
    "print(\"R2 score:\", r2_score(y_train_2, pred_RF_v2))\n",
    "print(\"MAE:\", mean_absolute_error(y_train_2, pred_RF_v2))\n",
    "print(\"MAPE:\", mean_absolute_percentage_error(y_train_2, pred_RF_v2))\n",
    "print(\"RSME:\", mean_squared_error(y_train_2, pred_RF_v2, squared = False))\n",
    "\n",
    "fig, ax = plt.subplots()\n",
    "ax.scatter(y_train_2, pred_RF_v2, edgecolors=(0, 0, 0))\n",
    "ax.plot([y_train_2.min(), y_train_2.max()], [y_train_2.min(), y_train_2.max()], \"k--\", lw=2)\n",
    "ax.set_xlabel(\"Measured\")\n",
    "ax.set_ylabel(\"Predicted\")\n",
    "plt.show()"
   ]
  },
  {
   "cell_type": "code",
   "execution_count": 48,
   "id": "2f8b4c9e",
   "metadata": {
    "scrolled": false
   },
   "outputs": [
    {
     "data": {
      "text/html": [
       "<div>\n",
       "<style scoped>\n",
       "    .dataframe tbody tr th:only-of-type {\n",
       "        vertical-align: middle;\n",
       "    }\n",
       "\n",
       "    .dataframe tbody tr th {\n",
       "        vertical-align: top;\n",
       "    }\n",
       "\n",
       "    .dataframe thead th {\n",
       "        text-align: right;\n",
       "    }\n",
       "</style>\n",
       "<table border=\"1\" class=\"dataframe\">\n",
       "  <thead>\n",
       "    <tr style=\"text-align: right;\">\n",
       "      <th></th>\n",
       "      <th>Yield (%)</th>\n",
       "    </tr>\n",
       "  </thead>\n",
       "  <tbody>\n",
       "    <tr>\n",
       "      <th>6</th>\n",
       "      <td>0.397</td>\n",
       "    </tr>\n",
       "    <tr>\n",
       "      <th>0</th>\n",
       "      <td>0.402</td>\n",
       "    </tr>\n",
       "    <tr>\n",
       "      <th>13</th>\n",
       "      <td>0.680</td>\n",
       "    </tr>\n",
       "    <tr>\n",
       "      <th>8</th>\n",
       "      <td>0.940</td>\n",
       "    </tr>\n",
       "    <tr>\n",
       "      <th>5</th>\n",
       "      <td>0.935</td>\n",
       "    </tr>\n",
       "    <tr>\n",
       "      <th>9</th>\n",
       "      <td>0.400</td>\n",
       "    </tr>\n",
       "    <tr>\n",
       "      <th>1</th>\n",
       "      <td>0.833</td>\n",
       "    </tr>\n",
       "    <tr>\n",
       "      <th>4</th>\n",
       "      <td>0.860</td>\n",
       "    </tr>\n",
       "    <tr>\n",
       "      <th>3</th>\n",
       "      <td>0.422</td>\n",
       "    </tr>\n",
       "  </tbody>\n",
       "</table>\n",
       "</div>"
      ],
      "text/plain": [
       "    Yield (%)\n",
       "6       0.397\n",
       "0       0.402\n",
       "13      0.680\n",
       "8       0.940\n",
       "5       0.935\n",
       "9       0.400\n",
       "1       0.833\n",
       "4       0.860\n",
       "3       0.422"
      ]
     },
     "execution_count": 48,
     "metadata": {},
     "output_type": "execute_result"
    }
   ],
   "source": [
    "y_train_2"
   ]
  },
  {
   "cell_type": "code",
   "execution_count": 49,
   "id": "8072d4ce",
   "metadata": {},
   "outputs": [
    {
     "data": {
      "text/plain": [
       "array([0.40356, 0.40596, 0.72886, 0.92711, 0.89081, 0.45375, 0.78216,\n",
       "       0.86545, 0.41421])"
      ]
     },
     "execution_count": 49,
     "metadata": {},
     "output_type": "execute_result"
    }
   ],
   "source": [
    "pred_RF_v2"
   ]
  },
  {
   "cell_type": "code",
   "execution_count": 50,
   "id": "e1b689b4",
   "metadata": {},
   "outputs": [
    {
     "name": "stdout",
     "output_type": "stream",
     "text": [
      "R2 score: 0.7614388250523951\n",
      "MAE: 0.0909859999999997\n",
      "MAPE: 0.14634204484991448\n",
      "RSME: 0.10664880224362551\n"
     ]
    },
    {
     "data": {
      "image/png": "[encoded data removed]",
      "text/plain": [
       "<Figure size 640x480 with 1 Axes>"
      ]
     },
     "metadata": {},
     "output_type": "display_data"
    }
   ],
   "source": [
    "# fazendo o teste com test subset \n",
    "pred_test_RF_v2 = RF_randomodel_v2.predict(X_test_2)\n",
    "\n",
    "print(\"R2 score:\", r2_score(y_test_2, pred_test_RF_v2))\n",
    "print(\"MAE:\", mean_absolute_error(y_test_2, pred_test_RF_v2))\n",
    "print(\"MAPE:\", mean_absolute_percentage_error(y_test_2, pred_test_RF_v2))\n",
    "print(\"RSME:\", mean_squared_error(y_test_2, pred_test_RF_v2, squared = False))\n",
    "\n",
    "fig, ax = plt.subplots()\n",
    "ax.scatter(y_test_2, pred_test_RF_v2, edgecolors=(0, 0, 0))\n",
    "ax.plot([y_test_2.min(), y_test_2.max()], [y_test_2.min(), y_test_2.max()], \"k--\", lw=2)\n",
    "ax.set_xlabel(\"Measured\")\n",
    "ax.set_ylabel(\"Predicted\")\n",
    "plt.show()"
   ]
  },
  {
   "cell_type": "code",
   "execution_count": 51,
   "id": "60a8f01e",
   "metadata": {},
   "outputs": [
    {
     "data": {
      "text/html": [
       "<div>\n",
       "<style scoped>\n",
       "    .dataframe tbody tr th:only-of-type {\n",
       "        vertical-align: middle;\n",
       "    }\n",
       "\n",
       "    .dataframe tbody tr th {\n",
       "        vertical-align: top;\n",
       "    }\n",
       "\n",
       "    .dataframe thead th {\n",
       "        text-align: right;\n",
       "    }\n",
       "</style>\n",
       "<table border=\"1\" class=\"dataframe\">\n",
       "  <thead>\n",
       "    <tr style=\"text-align: right;\">\n",
       "      <th></th>\n",
       "      <th>Yield (%)</th>\n",
       "    </tr>\n",
       "  </thead>\n",
       "  <tbody>\n",
       "    <tr>\n",
       "      <th>10</th>\n",
       "      <td>0.800</td>\n",
       "    </tr>\n",
       "    <tr>\n",
       "      <th>7</th>\n",
       "      <td>0.843</td>\n",
       "    </tr>\n",
       "    <tr>\n",
       "      <th>2</th>\n",
       "      <td>0.923</td>\n",
       "    </tr>\n",
       "    <tr>\n",
       "      <th>11</th>\n",
       "      <td>0.950</td>\n",
       "    </tr>\n",
       "    <tr>\n",
       "      <th>12</th>\n",
       "      <td>0.350</td>\n",
       "    </tr>\n",
       "  </tbody>\n",
       "</table>\n",
       "</div>"
      ],
      "text/plain": [
       "    Yield (%)\n",
       "10      0.800\n",
       "7       0.843\n",
       "2       0.923\n",
       "11      0.950\n",
       "12      0.350"
      ]
     },
     "execution_count": 51,
     "metadata": {},
     "output_type": "execute_result"
    }
   ],
   "source": [
    "y_test_2"
   ]
  },
  {
   "cell_type": "code",
   "execution_count": 52,
   "id": "082f9ef9",
   "metadata": {},
   "outputs": [
    {
     "data": {
      "text/plain": [
       "array([0.77038, 0.85951, 0.78461, 0.81288, 0.48329])"
      ]
     },
     "execution_count": 52,
     "metadata": {},
     "output_type": "execute_result"
    }
   ],
   "source": [
    "pred_test_RF_v2"
   ]
  },
  {
   "cell_type": "code",
   "execution_count": 53,
   "id": "feaf3a97",
   "metadata": {},
   "outputs": [
    {
     "data": {
      "image/png": "[encoded data removed]",
      "text/plain": [
       "<Figure size 640x480 with 1 Axes>"
      ]
     },
     "metadata": {},
     "output_type": "display_data"
    }
   ],
   "source": [
    "#vendo a feature importance\n",
    "\n",
    "feat_importances_model_RF = pd.Series(RF_randomodel_v2.feature_importances_, index=X_df_2.columns)\n",
    "feat_importances_model_RF.nlargest(7).plot(kind='barh');"
   ]
  },
  {
   "cell_type": "code",
   "execution_count": 54,
   "id": "567d2e4e",
   "metadata": {},
   "outputs": [],
   "source": [
    "#provando só a transmitancia"
   ]
  },
  {
   "cell_type": "code",
   "execution_count": 10,
   "id": "6bfc193d",
   "metadata": {},
   "outputs": [],
   "source": [
    "X_df_2 = df[['Transmittance at 600 nm at 0.1 wt.% (%)']]"
   ]
  },
  {
   "cell_type": "code",
   "execution_count": 11,
   "id": "d6bcd1a7",
   "metadata": {},
   "outputs": [],
   "source": [
    "X_train_2 = X_df_2.loc[[6,0,13,8,5,9,1,4,3]]\n",
    "y_train_2 = y_df.loc[[6,0,13,8,5,9,1,4,3]]"
   ]
  },
  {
   "cell_type": "code",
   "execution_count": 12,
   "id": "83743f89",
   "metadata": {},
   "outputs": [],
   "source": [
    "X_test_2 = X_df_2.loc[[10,7,2,11,12]]\n",
    "y_test_2 = y_df.loc[[10,7,2,11,12]]"
   ]
  },
  {
   "cell_type": "code",
   "execution_count": 13,
   "id": "4e8edff9",
   "metadata": {},
   "outputs": [
    {
     "name": "stdout",
     "output_type": "stream",
     "text": [
      "R2 score: 0.9986623668044882\n",
      "MAE: 0.0077244444444445025\n",
      "MAPE: 0.011886136945363841\n",
      "RSME: 0.008479439184810006\n"
     ]
    },
    {
     "data": {
      "image/png": "[encoded data removed]",
      "text/plain": [
       "<Figure size 640x480 with 1 Axes>"
      ]
     },
     "metadata": {},
     "output_type": "display_data"
    }
   ],
   "source": [
    "RF_randomodel_v2 = RandomForestRegressor(random_state=0)\n",
    "RF_randomodel_v2.fit(X_train_2, y_train_2.values.ravel())\n",
    "pred_RF_v2 = RF_randomodel_v2.predict(X_train_2)\n",
    "\n",
    "print(\"R2 score:\", r2_score(y_train_2, pred_RF_v2))\n",
    "print(\"MAE:\", mean_absolute_error(y_train_2, pred_RF_v2))\n",
    "print(\"MAPE:\", mean_absolute_percentage_error(y_train_2, pred_RF_v2))\n",
    "print(\"RSME:\", mean_squared_error(y_train_2, pred_RF_v2, squared = False))\n",
    "\n",
    "fig, ax = plt.subplots()\n",
    "ax.scatter(y_train_2, pred_RF_v2, edgecolors=(0, 0, 0))\n",
    "ax.plot([y_train_2.min(), y_train_2.max()], [y_train_2.min(), y_train_2.max()], \"k--\", lw=2)\n",
    "ax.set_xlabel(\"Measured\")\n",
    "ax.set_ylabel(\"Predicted\")\n",
    "plt.show()"
   ]
  },
  {
   "cell_type": "code",
   "execution_count": 59,
   "id": "8349ba6d",
   "metadata": {
    "scrolled": false
   },
   "outputs": [
    {
     "data": {
      "text/html": [
       "<div>\n",
       "<style scoped>\n",
       "    .dataframe tbody tr th:only-of-type {\n",
       "        vertical-align: middle;\n",
       "    }\n",
       "\n",
       "    .dataframe tbody tr th {\n",
       "        vertical-align: top;\n",
       "    }\n",
       "\n",
       "    .dataframe thead th {\n",
       "        text-align: right;\n",
       "    }\n",
       "</style>\n",
       "<table border=\"1\" class=\"dataframe\">\n",
       "  <thead>\n",
       "    <tr style=\"text-align: right;\">\n",
       "      <th></th>\n",
       "      <th>Yield (%)</th>\n",
       "    </tr>\n",
       "  </thead>\n",
       "  <tbody>\n",
       "    <tr>\n",
       "      <th>6</th>\n",
       "      <td>0.397</td>\n",
       "    </tr>\n",
       "    <tr>\n",
       "      <th>0</th>\n",
       "      <td>0.402</td>\n",
       "    </tr>\n",
       "    <tr>\n",
       "      <th>13</th>\n",
       "      <td>0.680</td>\n",
       "    </tr>\n",
       "    <tr>\n",
       "      <th>8</th>\n",
       "      <td>0.940</td>\n",
       "    </tr>\n",
       "    <tr>\n",
       "      <th>5</th>\n",
       "      <td>0.935</td>\n",
       "    </tr>\n",
       "    <tr>\n",
       "      <th>9</th>\n",
       "      <td>0.400</td>\n",
       "    </tr>\n",
       "    <tr>\n",
       "      <th>1</th>\n",
       "      <td>0.833</td>\n",
       "    </tr>\n",
       "    <tr>\n",
       "      <th>4</th>\n",
       "      <td>0.860</td>\n",
       "    </tr>\n",
       "    <tr>\n",
       "      <th>3</th>\n",
       "      <td>0.422</td>\n",
       "    </tr>\n",
       "  </tbody>\n",
       "</table>\n",
       "</div>"
      ],
      "text/plain": [
       "    Yield (%)\n",
       "6       0.397\n",
       "0       0.402\n",
       "13      0.680\n",
       "8       0.940\n",
       "5       0.935\n",
       "9       0.400\n",
       "1       0.833\n",
       "4       0.860\n",
       "3       0.422"
      ]
     },
     "execution_count": 59,
     "metadata": {},
     "output_type": "execute_result"
    }
   ],
   "source": [
    "y_train_2"
   ]
  },
  {
   "cell_type": "code",
   "execution_count": 60,
   "id": "0a250ebe",
   "metadata": {},
   "outputs": [
    {
     "data": {
      "text/plain": [
       "array([0.40356, 0.40596, 0.69274, 0.92861, 0.92676, 0.40067, 0.82407,\n",
       "       0.85021, 0.41476])"
      ]
     },
     "execution_count": 60,
     "metadata": {},
     "output_type": "execute_result"
    }
   ],
   "source": [
    "pred_RF_v2"
   ]
  },
  {
   "cell_type": "code",
   "execution_count": 61,
   "id": "de2719bd",
   "metadata": {},
   "outputs": [
    {
     "name": "stdout",
     "output_type": "stream",
     "text": [
      "R2 score: 0.9726838310678277\n",
      "MAE: 0.025429999999999973\n",
      "MAPE: 0.045027817624743845\n",
      "RSME: 0.0360882642974138\n"
     ]
    },
    {
     "data": {
      "image/png": "[encoded data removed]",
      "text/plain": [
       "<Figure size 640x480 with 1 Axes>"
      ]
     },
     "metadata": {},
     "output_type": "display_data"
    }
   ],
   "source": [
    "# fazendo o teste com test subset \n",
    "pred_test_RF_v2 = RF_randomodel_v2.predict(X_test_2)\n",
    "\n",
    "print(\"R2 score:\", r2_score(y_test_2, pred_test_RF_v2))\n",
    "print(\"MAE:\", mean_absolute_error(y_test_2, pred_test_RF_v2))\n",
    "print(\"MAPE:\", mean_absolute_percentage_error(y_test_2, pred_test_RF_v2))\n",
    "print(\"RSME:\", mean_squared_error(y_test_2, pred_test_RF_v2, squared = False))\n",
    "\n",
    "fig, ax = plt.subplots()\n",
    "ax.scatter(y_test_2, pred_test_RF_v2, edgecolors=(0, 0, 0))\n",
    "ax.plot([y_test_2.min(), y_test_2.max()], [y_test_2.min(), y_test_2.max()], \"k--\", lw=2)\n",
    "ax.set_xlabel(\"Measured\")\n",
    "ax.set_ylabel(\"Predicted\")\n",
    "plt.show()"
   ]
  },
  {
   "cell_type": "code",
   "execution_count": 62,
   "id": "3b44b5a9",
   "metadata": {},
   "outputs": [
    {
     "data": {
      "text/html": [
       "<div>\n",
       "<style scoped>\n",
       "    .dataframe tbody tr th:only-of-type {\n",
       "        vertical-align: middle;\n",
       "    }\n",
       "\n",
       "    .dataframe tbody tr th {\n",
       "        vertical-align: top;\n",
       "    }\n",
       "\n",
       "    .dataframe thead th {\n",
       "        text-align: right;\n",
       "    }\n",
       "</style>\n",
       "<table border=\"1\" class=\"dataframe\">\n",
       "  <thead>\n",
       "    <tr style=\"text-align: right;\">\n",
       "      <th></th>\n",
       "      <th>Yield (%)</th>\n",
       "    </tr>\n",
       "  </thead>\n",
       "  <tbody>\n",
       "    <tr>\n",
       "      <th>10</th>\n",
       "      <td>0.800</td>\n",
       "    </tr>\n",
       "    <tr>\n",
       "      <th>7</th>\n",
       "      <td>0.843</td>\n",
       "    </tr>\n",
       "    <tr>\n",
       "      <th>2</th>\n",
       "      <td>0.923</td>\n",
       "    </tr>\n",
       "    <tr>\n",
       "      <th>11</th>\n",
       "      <td>0.950</td>\n",
       "    </tr>\n",
       "    <tr>\n",
       "      <th>12</th>\n",
       "      <td>0.350</td>\n",
       "    </tr>\n",
       "  </tbody>\n",
       "</table>\n",
       "</div>"
      ],
      "text/plain": [
       "    Yield (%)\n",
       "10      0.800\n",
       "7       0.843\n",
       "2       0.923\n",
       "11      0.950\n",
       "12      0.350"
      ]
     },
     "execution_count": 62,
     "metadata": {},
     "output_type": "execute_result"
    }
   ],
   "source": [
    "y_test_2"
   ]
  },
  {
   "cell_type": "code",
   "execution_count": 63,
   "id": "c8597b1f",
   "metadata": {},
   "outputs": [
    {
     "data": {
      "text/plain": [
       "array([0.80808, 0.84022, 0.92676, 0.88691, 0.39944])"
      ]
     },
     "execution_count": 63,
     "metadata": {},
     "output_type": "execute_result"
    }
   ],
   "source": [
    "pred_test_RF_v2"
   ]
  },
  {
   "cell_type": "code",
   "execution_count": 36,
   "id": "11e653be",
   "metadata": {},
   "outputs": [
    {
     "name": "stdout",
     "output_type": "stream",
     "text": [
      "R2 score: 0.9985861075651513\n",
      "MAE: 0.004222222222222207\n",
      "MAPE: 0.009391901187699845\n",
      "RSME: 0.00871779788708133\n"
     ]
    },
    {
     "data": {
      "image/png": "[encoded data removed]",
      "text/plain": [
       "<Figure size 640x480 with 1 Axes>"
      ]
     },
     "metadata": {},
     "output_type": "display_data"
    }
   ],
   "source": [
    "RF_randomodel_v2 = RandomForestRegressor(n_estimators = 1, random_state=0)\n",
    "RF_randomodel_v2.fit(X_train_2, y_train_2.values.ravel())\n",
    "pred_RF_v2 = RF_randomodel_v2.predict(X_train_2)\n",
    "\n",
    "print(\"R2 score:\", r2_score(y_train_2, pred_RF_v2))\n",
    "print(\"MAE:\", mean_absolute_error(y_train_2, pred_RF_v2))\n",
    "print(\"MAPE:\", mean_absolute_percentage_error(y_train_2, pred_RF_v2))\n",
    "print(\"RSME:\", mean_squared_error(y_train_2, pred_RF_v2, squared = False))\n",
    "\n",
    "fig, ax = plt.subplots()\n",
    "ax.scatter(y_train_2, pred_RF_v2, edgecolors=(0, 0, 0))\n",
    "ax.plot([y_train_2.min(), y_train_2.max()], [y_train_2.min(), y_train_2.max()], \"k--\", lw=2)\n",
    "ax.set_xlabel(\"Measured\")\n",
    "ax.set_ylabel(\"Predicted\")\n",
    "plt.show()"
   ]
  },
  {
   "cell_type": "code",
   "execution_count": 37,
   "id": "c4f2c2f5",
   "metadata": {
    "scrolled": false
   },
   "outputs": [
    {
     "data": {
      "text/html": [
       "<div>\n",
       "<style scoped>\n",
       "    .dataframe tbody tr th:only-of-type {\n",
       "        vertical-align: middle;\n",
       "    }\n",
       "\n",
       "    .dataframe tbody tr th {\n",
       "        vertical-align: top;\n",
       "    }\n",
       "\n",
       "    .dataframe thead th {\n",
       "        text-align: right;\n",
       "    }\n",
       "</style>\n",
       "<table border=\"1\" class=\"dataframe\">\n",
       "  <thead>\n",
       "    <tr style=\"text-align: right;\">\n",
       "      <th></th>\n",
       "      <th>Yield (%)</th>\n",
       "    </tr>\n",
       "  </thead>\n",
       "  <tbody>\n",
       "    <tr>\n",
       "      <th>6</th>\n",
       "      <td>0.397</td>\n",
       "    </tr>\n",
       "    <tr>\n",
       "      <th>0</th>\n",
       "      <td>0.402</td>\n",
       "    </tr>\n",
       "    <tr>\n",
       "      <th>13</th>\n",
       "      <td>0.680</td>\n",
       "    </tr>\n",
       "    <tr>\n",
       "      <th>8</th>\n",
       "      <td>0.940</td>\n",
       "    </tr>\n",
       "    <tr>\n",
       "      <th>5</th>\n",
       "      <td>0.935</td>\n",
       "    </tr>\n",
       "    <tr>\n",
       "      <th>9</th>\n",
       "      <td>0.400</td>\n",
       "    </tr>\n",
       "    <tr>\n",
       "      <th>1</th>\n",
       "      <td>0.833</td>\n",
       "    </tr>\n",
       "    <tr>\n",
       "      <th>4</th>\n",
       "      <td>0.860</td>\n",
       "    </tr>\n",
       "    <tr>\n",
       "      <th>3</th>\n",
       "      <td>0.422</td>\n",
       "    </tr>\n",
       "  </tbody>\n",
       "</table>\n",
       "</div>"
      ],
      "text/plain": [
       "    Yield (%)\n",
       "6       0.397\n",
       "0       0.402\n",
       "13      0.680\n",
       "8       0.940\n",
       "5       0.935\n",
       "9       0.400\n",
       "1       0.833\n",
       "4       0.860\n",
       "3       0.422"
      ]
     },
     "execution_count": 37,
     "metadata": {},
     "output_type": "execute_result"
    }
   ],
   "source": [
    "y_train_2"
   ]
  },
  {
   "cell_type": "code",
   "execution_count": 38,
   "id": "12beb74c",
   "metadata": {},
   "outputs": [
    {
     "data": {
      "text/plain": [
       "array([0.397, 0.397, 0.68 , 0.94 , 0.94 , 0.397, 0.833, 0.86 , 0.397])"
      ]
     },
     "execution_count": 38,
     "metadata": {},
     "output_type": "execute_result"
    }
   ],
   "source": [
    "pred_RF_v2"
   ]
  },
  {
   "cell_type": "code",
   "execution_count": 39,
   "id": "d895b5be",
   "metadata": {
    "scrolled": false
   },
   "outputs": [
    {
     "name": "stdout",
     "output_type": "stream",
     "text": [
      "R2 score: 0.9505551481877352\n",
      "MAE: 0.03939999999999997\n",
      "MAPE: 0.06011063082236072\n",
      "RSME: 0.0485530637550299\n"
     ]
    },
    {
     "data": {
      "image/png": "[encoded data removed]",
      "text/plain": [
       "<Figure size 640x480 with 1 Axes>"
      ]
     },
     "metadata": {},
     "output_type": "display_data"
    }
   ],
   "source": [
    "# fazendo o teste com test subset \n",
    "pred_test_RF_v2 = RF_randomodel_v2.predict(X_test_2)\n",
    "\n",
    "print(\"R2 score:\", r2_score(y_test_2, pred_test_RF_v2))\n",
    "print(\"MAE:\", mean_absolute_error(y_test_2, pred_test_RF_v2))\n",
    "print(\"MAPE:\", mean_absolute_percentage_error(y_test_2, pred_test_RF_v2))\n",
    "print(\"RSME:\", mean_squared_error(y_test_2, pred_test_RF_v2, squared = False))\n",
    "\n",
    "fig, ax = plt.subplots()\n",
    "ax.scatter(y_test_2, pred_test_RF_v2, edgecolors=(0, 0, 0))\n",
    "ax.plot([y_test_2.min(), y_test_2.max()], [y_test_2.min(), y_test_2.max()], \"k--\", lw=2)\n",
    "ax.set_xlabel(\"Measured\")\n",
    "ax.set_ylabel(\"Predicted\")\n",
    "plt.show()"
   ]
  },
  {
   "cell_type": "code",
   "execution_count": 34,
   "id": "b9674f38",
   "metadata": {},
   "outputs": [
    {
     "data": {
      "text/html": [
       "<div>\n",
       "<style scoped>\n",
       "    .dataframe tbody tr th:only-of-type {\n",
       "        vertical-align: middle;\n",
       "    }\n",
       "\n",
       "    .dataframe tbody tr th {\n",
       "        vertical-align: top;\n",
       "    }\n",
       "\n",
       "    .dataframe thead th {\n",
       "        text-align: right;\n",
       "    }\n",
       "</style>\n",
       "<table border=\"1\" class=\"dataframe\">\n",
       "  <thead>\n",
       "    <tr style=\"text-align: right;\">\n",
       "      <th></th>\n",
       "      <th>Yield (%)</th>\n",
       "    </tr>\n",
       "  </thead>\n",
       "  <tbody>\n",
       "    <tr>\n",
       "      <th>10</th>\n",
       "      <td>0.800</td>\n",
       "    </tr>\n",
       "    <tr>\n",
       "      <th>7</th>\n",
       "      <td>0.843</td>\n",
       "    </tr>\n",
       "    <tr>\n",
       "      <th>2</th>\n",
       "      <td>0.923</td>\n",
       "    </tr>\n",
       "    <tr>\n",
       "      <th>11</th>\n",
       "      <td>0.950</td>\n",
       "    </tr>\n",
       "    <tr>\n",
       "      <th>12</th>\n",
       "      <td>0.350</td>\n",
       "    </tr>\n",
       "  </tbody>\n",
       "</table>\n",
       "</div>"
      ],
      "text/plain": [
       "    Yield (%)\n",
       "10      0.800\n",
       "7       0.843\n",
       "2       0.923\n",
       "11      0.950\n",
       "12      0.350"
      ]
     },
     "execution_count": 34,
     "metadata": {},
     "output_type": "execute_result"
    }
   ],
   "source": [
    "y_test_2"
   ]
  },
  {
   "cell_type": "code",
   "execution_count": 35,
   "id": "42dbda74",
   "metadata": {},
   "outputs": [
    {
     "data": {
      "text/plain": [
       "array([0.7572, 0.8652, 0.937 , 0.876 , 0.3982])"
      ]
     },
     "execution_count": 35,
     "metadata": {},
     "output_type": "execute_result"
    }
   ],
   "source": [
    "pred_test_RF_v2"
   ]
  },
  {
   "cell_type": "code",
   "execution_count": 13,
   "id": "f7ffae51",
   "metadata": {},
   "outputs": [],
   "source": [
    "#doing a single decision tree, because it looks that the model is too simple for having a RF\n",
    "\n",
    "from sklearn.tree import DecisionTreeRegressor"
   ]
  },
  {
   "cell_type": "code",
   "execution_count": 14,
   "id": "e6663a0c",
   "metadata": {},
   "outputs": [
    {
     "name": "stdout",
     "output_type": "stream",
     "text": [
      "R2 score: 1.0\n",
      "MAE: 0.0\n",
      "MAPE: 0.0\n",
      "RSME: 0.0\n"
     ]
    },
    {
     "data": {
      "image/png": "[encoded data removed]",
      "text/plain": [
       "<Figure size 640x480 with 1 Axes>"
      ]
     },
     "metadata": {},
     "output_type": "display_data"
    }
   ],
   "source": [
    "RF_dectree = DecisionTreeRegressor(random_state=0, min_samples_leaf=1)\n",
    "RF_dectree.fit(X_train_2, y_train_2.values.ravel())\n",
    "pred_RF_v2 = RF_dectree.predict(X_train_2)\n",
    "\n",
    "print(\"R2 score:\", r2_score(y_train_2, pred_RF_v2))\n",
    "print(\"MAE:\", mean_absolute_error(y_train_2, pred_RF_v2))\n",
    "print(\"MAPE:\", mean_absolute_percentage_error(y_train_2, pred_RF_v2))\n",
    "print(\"RSME:\", mean_squared_error(y_train_2, pred_RF_v2, squared = False))\n",
    "\n",
    "fig, ax = plt.subplots()\n",
    "ax.scatter(y_train_2, pred_RF_v2, edgecolors=(0, 0, 0))\n",
    "ax.plot([y_train_2.min(), y_train_2.max()], [y_train_2.min(), y_train_2.max()], \"k--\", lw=2)\n",
    "ax.set_xlabel(\"Measured\")\n",
    "ax.set_ylabel(\"Predicted\")\n",
    "plt.show()"
   ]
  },
  {
   "cell_type": "code",
   "execution_count": 41,
   "id": "704aa7c5",
   "metadata": {
    "scrolled": false
   },
   "outputs": [
    {
     "data": {
      "text/html": [
       "<div>\n",
       "<style scoped>\n",
       "    .dataframe tbody tr th:only-of-type {\n",
       "        vertical-align: middle;\n",
       "    }\n",
       "\n",
       "    .dataframe tbody tr th {\n",
       "        vertical-align: top;\n",
       "    }\n",
       "\n",
       "    .dataframe thead th {\n",
       "        text-align: right;\n",
       "    }\n",
       "</style>\n",
       "<table border=\"1\" class=\"dataframe\">\n",
       "  <thead>\n",
       "    <tr style=\"text-align: right;\">\n",
       "      <th></th>\n",
       "      <th>Yield (%)</th>\n",
       "    </tr>\n",
       "  </thead>\n",
       "  <tbody>\n",
       "    <tr>\n",
       "      <th>6</th>\n",
       "      <td>0.397</td>\n",
       "    </tr>\n",
       "    <tr>\n",
       "      <th>0</th>\n",
       "      <td>0.402</td>\n",
       "    </tr>\n",
       "    <tr>\n",
       "      <th>13</th>\n",
       "      <td>0.680</td>\n",
       "    </tr>\n",
       "    <tr>\n",
       "      <th>8</th>\n",
       "      <td>0.940</td>\n",
       "    </tr>\n",
       "    <tr>\n",
       "      <th>5</th>\n",
       "      <td>0.935</td>\n",
       "    </tr>\n",
       "    <tr>\n",
       "      <th>9</th>\n",
       "      <td>0.400</td>\n",
       "    </tr>\n",
       "    <tr>\n",
       "      <th>1</th>\n",
       "      <td>0.833</td>\n",
       "    </tr>\n",
       "    <tr>\n",
       "      <th>4</th>\n",
       "      <td>0.860</td>\n",
       "    </tr>\n",
       "    <tr>\n",
       "      <th>3</th>\n",
       "      <td>0.422</td>\n",
       "    </tr>\n",
       "  </tbody>\n",
       "</table>\n",
       "</div>"
      ],
      "text/plain": [
       "    Yield (%)\n",
       "6       0.397\n",
       "0       0.402\n",
       "13      0.680\n",
       "8       0.940\n",
       "5       0.935\n",
       "9       0.400\n",
       "1       0.833\n",
       "4       0.860\n",
       "3       0.422"
      ]
     },
     "execution_count": 41,
     "metadata": {},
     "output_type": "execute_result"
    }
   ],
   "source": [
    "y_train_2"
   ]
  },
  {
   "cell_type": "code",
   "execution_count": 42,
   "id": "7fca704e",
   "metadata": {},
   "outputs": [
    {
     "data": {
      "text/plain": [
       "array([0.3985    , 0.412     , 0.7565    , 0.91166667, 0.91166667,\n",
       "       0.3985    , 0.7565    , 0.91166667, 0.412     ])"
      ]
     },
     "execution_count": 42,
     "metadata": {},
     "output_type": "execute_result"
    }
   ],
   "source": [
    "pred_RF_v2"
   ]
  },
  {
   "cell_type": "code",
   "execution_count": 15,
   "id": "0ffe3f52",
   "metadata": {},
   "outputs": [
    {
     "name": "stdout",
     "output_type": "stream",
     "text": [
      "R2 score: 0.9499426981695296\n",
      "MAE: 0.03899999999999999\n",
      "MAPE: 0.060741492918011585\n",
      "RSME: 0.04885284024496425\n"
     ]
    },
    {
     "data": {
      "image/png": "[encoded data removed]",
      "text/plain": [
       "<Figure size 640x480 with 1 Axes>"
      ]
     },
     "metadata": {},
     "output_type": "display_data"
    }
   ],
   "source": [
    "# fazendo o teste com test subset \n",
    "pred_test_RF_v2 = RF_dectree.predict(X_test_2)\n",
    "\n",
    "print(\"R2 score:\", r2_score(y_test_2, pred_test_RF_v2))\n",
    "print(\"MAE:\", mean_absolute_error(y_test_2, pred_test_RF_v2))\n",
    "print(\"MAPE:\", mean_absolute_percentage_error(y_test_2, pred_test_RF_v2))\n",
    "print(\"RSME:\", mean_squared_error(y_test_2, pred_test_RF_v2, squared = False))\n",
    "\n",
    "fig, ax = plt.subplots()\n",
    "ax.scatter(y_test_2, pred_test_RF_v2, edgecolors=(0, 0, 0))\n",
    "ax.plot([y_test_2.min(), y_test_2.max()], [y_test_2.min(), y_test_2.max()], \"k--\", lw=2)\n",
    "ax.set_xlabel(\"Measured\")\n",
    "ax.set_ylabel(\"Predicted\")\n",
    "plt.show()"
   ]
  },
  {
   "cell_type": "code",
   "execution_count": 18,
   "id": "8696a40e",
   "metadata": {},
   "outputs": [
    {
     "data": {
      "text/html": [
       "<div>\n",
       "<style scoped>\n",
       "    .dataframe tbody tr th:only-of-type {\n",
       "        vertical-align: middle;\n",
       "    }\n",
       "\n",
       "    .dataframe tbody tr th {\n",
       "        vertical-align: top;\n",
       "    }\n",
       "\n",
       "    .dataframe thead th {\n",
       "        text-align: right;\n",
       "    }\n",
       "</style>\n",
       "<table border=\"1\" class=\"dataframe\">\n",
       "  <thead>\n",
       "    <tr style=\"text-align: right;\">\n",
       "      <th></th>\n",
       "      <th>Yield (%)</th>\n",
       "    </tr>\n",
       "  </thead>\n",
       "  <tbody>\n",
       "    <tr>\n",
       "      <th>10</th>\n",
       "      <td>0.800</td>\n",
       "    </tr>\n",
       "    <tr>\n",
       "      <th>7</th>\n",
       "      <td>0.843</td>\n",
       "    </tr>\n",
       "    <tr>\n",
       "      <th>2</th>\n",
       "      <td>0.923</td>\n",
       "    </tr>\n",
       "    <tr>\n",
       "      <th>11</th>\n",
       "      <td>0.950</td>\n",
       "    </tr>\n",
       "    <tr>\n",
       "      <th>12</th>\n",
       "      <td>0.350</td>\n",
       "    </tr>\n",
       "  </tbody>\n",
       "</table>\n",
       "</div>"
      ],
      "text/plain": [
       "    Yield (%)\n",
       "10      0.800\n",
       "7       0.843\n",
       "2       0.923\n",
       "11      0.950\n",
       "12      0.350"
      ]
     },
     "execution_count": 18,
     "metadata": {},
     "output_type": "execute_result"
    }
   ],
   "source": [
    "y_test_2"
   ]
  },
  {
   "cell_type": "code",
   "execution_count": 19,
   "id": "c334bba8",
   "metadata": {},
   "outputs": [
    {
     "data": {
      "text/plain": [
       "array([0.7572, 0.8652, 0.937 , 0.876 , 0.3982])"
      ]
     },
     "execution_count": 19,
     "metadata": {},
     "output_type": "execute_result"
    }
   ],
   "source": [
    "pred_test_RF_v2"
   ]
  },
  {
   "cell_type": "code",
   "execution_count": 64,
   "id": "0067ea12",
   "metadata": {},
   "outputs": [],
   "source": [
    "#pelo jeito, ter todas as outras features atrapalha o modelo, confunde ele. Vou fazer com o cationic demand e vou fazer\n",
    "# uma LR so com transmitancia "
   ]
  },
  {
   "cell_type": "code",
   "execution_count": 72,
   "id": "418eb860",
   "metadata": {},
   "outputs": [],
   "source": [
    "#modelo com demanda cat e transmitancia"
   ]
  },
  {
   "cell_type": "code",
   "execution_count": 73,
   "id": "ae980e84",
   "metadata": {},
   "outputs": [
    {
     "data": {
      "text/plain": [
       "Index(['Transmittance at 600 nm at 0.1 wt.% (%)', 'Cat demand (μeq/g)',\n",
       "       'Viscosity (parameter K)', 'Accumulated energy (kWh/dry kg)'],\n",
       "      dtype='object')"
      ]
     },
     "execution_count": 73,
     "metadata": {},
     "output_type": "execute_result"
    }
   ],
   "source": [
    "X_df.columns"
   ]
  },
  {
   "cell_type": "code",
   "execution_count": 89,
   "id": "3be4a842",
   "metadata": {},
   "outputs": [],
   "source": [
    "X_df_3 = df[['Transmittance at 600 nm at 0.1 wt.% (%)',\n",
    "             'Cat demand (μeq/g)']]"
   ]
  },
  {
   "cell_type": "code",
   "execution_count": 90,
   "id": "882cad13",
   "metadata": {},
   "outputs": [],
   "source": [
    "X_train_3 = X_df_2.loc[[6,0,13,8,5,9,1,4,3]]\n",
    "y_train_3 = y_df.loc[[6,0,13,8,5,9,1,4,3]]"
   ]
  },
  {
   "cell_type": "code",
   "execution_count": 91,
   "id": "cb0bab9c",
   "metadata": {},
   "outputs": [],
   "source": [
    "X_test_3 = X_df_2.loc[[10,7,2,11,12]]\n",
    "y_test_3 = y_df.loc[[10,7,2,11,12]]"
   ]
  },
  {
   "cell_type": "code",
   "execution_count": 92,
   "id": "ebefe39d",
   "metadata": {},
   "outputs": [
    {
     "name": "stdout",
     "output_type": "stream",
     "text": [
      "R2 score: 0.9846369654092455\n",
      "MAE: 0.024152222222222193\n",
      "MAPE: 0.03748274535935156\n",
      "RSME: 0.028736714611567432\n"
     ]
    },
    {
     "data": {
      "image/png": "[encoded data removed]",
      "text/plain": [
       "<Figure size 640x480 with 1 Axes>"
      ]
     },
     "metadata": {},
     "output_type": "display_data"
    }
   ],
   "source": [
    "RF_randomodel_v2 = RandomForestRegressor(random_state=0)\n",
    "RF_randomodel_v2.fit(X_train_3, y_train_3.values.ravel())\n",
    "pred_RF_v2 = RF_randomodel_v2.predict(X_train_2)\n",
    "\n",
    "print(\"R2 score:\", r2_score(y_train_3, pred_RF_v2))\n",
    "print(\"MAE:\", mean_absolute_error(y_train_3, pred_RF_v2))\n",
    "print(\"MAPE:\", mean_absolute_percentage_error(y_train_3, pred_RF_v2))\n",
    "print(\"RSME:\", mean_squared_error(y_train_3, pred_RF_v2, squared = False))\n",
    "\n",
    "fig, ax = plt.subplots()\n",
    "ax.scatter(y_train_3, pred_RF_v2, edgecolors=(0, 0, 0))\n",
    "ax.plot([y_train_3.min(), y_train_3.max()], [y_train_3.min(), y_train_3.max()], \"k--\", lw=2)\n",
    "ax.set_xlabel(\"Measured\")\n",
    "ax.set_ylabel(\"Predicted\")\n",
    "plt.show()"
   ]
  },
  {
   "cell_type": "code",
   "execution_count": 93,
   "id": "00630144",
   "metadata": {
    "scrolled": false
   },
   "outputs": [
    {
     "data": {
      "text/html": [
       "<div>\n",
       "<style scoped>\n",
       "    .dataframe tbody tr th:only-of-type {\n",
       "        vertical-align: middle;\n",
       "    }\n",
       "\n",
       "    .dataframe tbody tr th {\n",
       "        vertical-align: top;\n",
       "    }\n",
       "\n",
       "    .dataframe thead th {\n",
       "        text-align: right;\n",
       "    }\n",
       "</style>\n",
       "<table border=\"1\" class=\"dataframe\">\n",
       "  <thead>\n",
       "    <tr style=\"text-align: right;\">\n",
       "      <th></th>\n",
       "      <th>Yield (%)</th>\n",
       "    </tr>\n",
       "  </thead>\n",
       "  <tbody>\n",
       "    <tr>\n",
       "      <th>6</th>\n",
       "      <td>0.397</td>\n",
       "    </tr>\n",
       "    <tr>\n",
       "      <th>0</th>\n",
       "      <td>0.402</td>\n",
       "    </tr>\n",
       "    <tr>\n",
       "      <th>13</th>\n",
       "      <td>0.680</td>\n",
       "    </tr>\n",
       "    <tr>\n",
       "      <th>8</th>\n",
       "      <td>0.940</td>\n",
       "    </tr>\n",
       "    <tr>\n",
       "      <th>5</th>\n",
       "      <td>0.935</td>\n",
       "    </tr>\n",
       "    <tr>\n",
       "      <th>9</th>\n",
       "      <td>0.400</td>\n",
       "    </tr>\n",
       "    <tr>\n",
       "      <th>1</th>\n",
       "      <td>0.833</td>\n",
       "    </tr>\n",
       "    <tr>\n",
       "      <th>4</th>\n",
       "      <td>0.860</td>\n",
       "    </tr>\n",
       "    <tr>\n",
       "      <th>3</th>\n",
       "      <td>0.422</td>\n",
       "    </tr>\n",
       "  </tbody>\n",
       "</table>\n",
       "</div>"
      ],
      "text/plain": [
       "    Yield (%)\n",
       "6       0.397\n",
       "0       0.402\n",
       "13      0.680\n",
       "8       0.940\n",
       "5       0.935\n",
       "9       0.400\n",
       "1       0.833\n",
       "4       0.860\n",
       "3       0.422"
      ]
     },
     "execution_count": 93,
     "metadata": {},
     "output_type": "execute_result"
    }
   ],
   "source": [
    "y_train_3"
   ]
  },
  {
   "cell_type": "code",
   "execution_count": 94,
   "id": "a7f6e812",
   "metadata": {},
   "outputs": [
    {
     "data": {
      "text/plain": [
       "array([0.42743, 0.40505, 0.72052, 0.89294, 0.92085, 0.40052, 0.79455,\n",
       "       0.8422 , 0.44739])"
      ]
     },
     "execution_count": 94,
     "metadata": {},
     "output_type": "execute_result"
    }
   ],
   "source": [
    "pred_RF_v2"
   ]
  },
  {
   "cell_type": "code",
   "execution_count": 95,
   "id": "0f612246",
   "metadata": {},
   "outputs": [
    {
     "name": "stdout",
     "output_type": "stream",
     "text": [
      "R2 score: 0.8935416298217861\n",
      "MAE: 0.06255199999999997\n",
      "MAPE: 0.11484518836553419\n",
      "RSME: 0.07124362455686803\n"
     ]
    },
    {
     "data": {
      "image/png": "[encoded data removed]",
      "text/plain": [
       "<Figure size 640x480 with 1 Axes>"
      ]
     },
     "metadata": {},
     "output_type": "display_data"
    }
   ],
   "source": [
    "# fazendo o teste com test subset \n",
    "pred_test_RF_v2 = RF_randomodel_v2.predict(X_test_3)\n",
    "\n",
    "print(\"R2 score:\", r2_score(y_test_3, pred_test_RF_v2))\n",
    "print(\"MAE:\", mean_absolute_error(y_test_3, pred_test_RF_v2))\n",
    "print(\"MAPE:\", mean_absolute_percentage_error(y_test_3, pred_test_RF_v2))\n",
    "print(\"RSME:\", mean_squared_error(y_test_3, pred_test_RF_v2, squared = False))\n",
    "\n",
    "fig, ax = plt.subplots()\n",
    "ax.scatter(y_test_3, pred_test_RF_v2, edgecolors=(0, 0, 0))\n",
    "ax.plot([y_test_3.min(), y_test_3.max()], [y_test_3.min(), y_test_3.max()], \"k--\", lw=2)\n",
    "ax.set_xlabel(\"Measured\")\n",
    "ax.set_ylabel(\"Predicted\")\n",
    "plt.show()"
   ]
  },
  {
   "cell_type": "code",
   "execution_count": 96,
   "id": "2e8c398e",
   "metadata": {},
   "outputs": [
    {
     "data": {
      "text/html": [
       "<div>\n",
       "<style scoped>\n",
       "    .dataframe tbody tr th:only-of-type {\n",
       "        vertical-align: middle;\n",
       "    }\n",
       "\n",
       "    .dataframe tbody tr th {\n",
       "        vertical-align: top;\n",
       "    }\n",
       "\n",
       "    .dataframe thead th {\n",
       "        text-align: right;\n",
       "    }\n",
       "</style>\n",
       "<table border=\"1\" class=\"dataframe\">\n",
       "  <thead>\n",
       "    <tr style=\"text-align: right;\">\n",
       "      <th></th>\n",
       "      <th>Yield (%)</th>\n",
       "    </tr>\n",
       "  </thead>\n",
       "  <tbody>\n",
       "    <tr>\n",
       "      <th>10</th>\n",
       "      <td>0.800</td>\n",
       "    </tr>\n",
       "    <tr>\n",
       "      <th>7</th>\n",
       "      <td>0.843</td>\n",
       "    </tr>\n",
       "    <tr>\n",
       "      <th>2</th>\n",
       "      <td>0.923</td>\n",
       "    </tr>\n",
       "    <tr>\n",
       "      <th>11</th>\n",
       "      <td>0.950</td>\n",
       "    </tr>\n",
       "    <tr>\n",
       "      <th>12</th>\n",
       "      <td>0.350</td>\n",
       "    </tr>\n",
       "  </tbody>\n",
       "</table>\n",
       "</div>"
      ],
      "text/plain": [
       "    Yield (%)\n",
       "10      0.800\n",
       "7       0.843\n",
       "2       0.923\n",
       "11      0.950\n",
       "12      0.350"
      ]
     },
     "execution_count": 96,
     "metadata": {},
     "output_type": "execute_result"
    }
   ],
   "source": [
    "y_test_3"
   ]
  },
  {
   "cell_type": "code",
   "execution_count": 97,
   "id": "9318dfaf",
   "metadata": {},
   "outputs": [
    {
     "data": {
      "text/plain": [
       "array([0.84252, 0.8107 , 0.87545, 0.88753, 0.47792])"
      ]
     },
     "execution_count": 97,
     "metadata": {},
     "output_type": "execute_result"
    }
   ],
   "source": [
    "pred_test_RF_v2"
   ]
  },
  {
   "cell_type": "code",
   "execution_count": 101,
   "id": "1e08dc5f",
   "metadata": {},
   "outputs": [
    {
     "name": "stdout",
     "output_type": "stream",
     "text": [
      "Coeficiente: 0.9765696797169263\n",
      "Intercepto: 0.19427354371137784\n"
     ]
    }
   ],
   "source": [
    "# Criando o modelo de regressão linear\n",
    "model = LinearRegression()\n",
    "\n",
    "# Ajustando o modelo aos dados de treinamento\n",
    "model.fit(X_train_2, y_train_2)\n",
    "\n",
    "# Fazendo previsões nos dados de teste\n",
    "y_pred = model.predict(X_test_2)\n",
    "\n",
    "# Coeficientes do modelo\n",
    "print(f\"Coeficiente: {model.coef_[0][0]}\")\n",
    "print(f\"Intercepto: {model.intercept_[0]}\")\n",
    "\n",
    "# Plotando os resultados\n",
    "#plt.scatter(X, y, color='blue', label='Dados reais')\n",
    "#plt.plot(X_test, y_pred, color='red', linewidth=2, label='Linha de regressão')\n",
    "#plt.xlabel('X')\n",
    "#plt.ylabel('y')\n",
    "#plt.title('Regressão Linear')\n",
    "#plt.legend()\n",
    "#plt.show()"
   ]
  },
  {
   "cell_type": "code",
   "execution_count": 102,
   "id": "d91eb326",
   "metadata": {},
   "outputs": [
    {
     "name": "stdout",
     "output_type": "stream",
     "text": [
      "R2 score: 0.9200612652526389\n",
      "MAE: 0.057361613845463816\n",
      "MAPE: 0.08860460508910557\n",
      "RSME: 0.06555068672017944\n"
     ]
    },
    {
     "data": {
      "image/png": "[encoded data removed]",
      "text/plain": [
       "<Figure size 640x480 with 1 Axes>"
      ]
     },
     "metadata": {},
     "output_type": "display_data"
    }
   ],
   "source": [
    "pred_LR_v1 = model.predict(X_train_2)\n",
    "\n",
    "print(\"R2 score:\", r2_score(y_train_2, pred_LR_v1))\n",
    "print(\"MAE:\", mean_absolute_error(y_train_2, pred_LR_v1))\n",
    "print(\"MAPE:\", mean_absolute_percentage_error(y_train_2, pred_LR_v1))\n",
    "print(\"RSME:\", mean_squared_error(y_train_2, pred_LR_v1, squared = False))\n",
    "\n",
    "fig, ax = plt.subplots()\n",
    "ax.scatter(y_train_2, pred_LR_v1, edgecolors=(0, 0, 0))\n",
    "ax.plot([y_train_2.min(), y_train_2.max()], [y_train_2.min(), y_train_2.max()], \"k--\", lw=2)\n",
    "ax.set_xlabel(\"Measured\")\n",
    "ax.set_ylabel(\"Predicted\")\n",
    "plt.show()"
   ]
  },
  {
   "cell_type": "code",
   "execution_count": 103,
   "id": "8ec47b1f",
   "metadata": {},
   "outputs": [
    {
     "name": "stdout",
     "output_type": "stream",
     "text": [
      "R2 score: 0.8241086730180692\n",
      "MAE: 0.09100368005180745\n",
      "MAPE: 0.14133078916650665\n",
      "RSME: 0.09157529206830425\n"
     ]
    },
    {
     "data": {
      "image/png": "[encoded data removed]",
      "text/plain": [
       "<Figure size 640x480 with 1 Axes>"
      ]
     },
     "metadata": {},
     "output_type": "display_data"
    }
   ],
   "source": [
    "# fazendo o teste com test subset \n",
    "pred_test_LR_v1 = model.predict(X_test_2)\n",
    "\n",
    "print(\"R2 score:\", r2_score(y_test_2, pred_test_LR_v1))\n",
    "print(\"MAE:\", mean_absolute_error(y_test_2, pred_test_LR_v1))\n",
    "print(\"MAPE:\", mean_absolute_percentage_error(y_test_2, pred_test_LR_v1))\n",
    "print(\"RSME:\", mean_squared_error(y_test_2, pred_test_LR_v1, squared = False))\n",
    "\n",
    "fig, ax = plt.subplots()\n",
    "ax.scatter(y_test_2, pred_test_LR_v1, edgecolors=(0, 0, 0))\n",
    "ax.plot([y_test_2.min(), y_test_2.max()], [y_test_2.min(), y_test_2.max()], \"k--\", lw=2)\n",
    "ax.set_xlabel(\"Measured\")\n",
    "ax.set_ylabel(\"Predicted\")\n",
    "plt.show()"
   ]
  },
  {
   "cell_type": "code",
   "execution_count": 104,
   "id": "31bc13c1",
   "metadata": {},
   "outputs": [],
   "source": [
    "#pelo jeito nao é muito bom um modelo linear só com a transmitancia"
   ]
  },
  {
   "cell_type": "code",
   "execution_count": 105,
   "id": "f8e962d9",
   "metadata": {},
   "outputs": [
    {
     "data": {
      "text/html": [
       "<div>\n",
       "<style scoped>\n",
       "    .dataframe tbody tr th:only-of-type {\n",
       "        vertical-align: middle;\n",
       "    }\n",
       "\n",
       "    .dataframe tbody tr th {\n",
       "        vertical-align: top;\n",
       "    }\n",
       "\n",
       "    .dataframe thead th {\n",
       "        text-align: right;\n",
       "    }\n",
       "</style>\n",
       "<table border=\"1\" class=\"dataframe\">\n",
       "  <thead>\n",
       "    <tr style=\"text-align: right;\">\n",
       "      <th></th>\n",
       "      <th>Yield (%)</th>\n",
       "    </tr>\n",
       "  </thead>\n",
       "  <tbody>\n",
       "    <tr>\n",
       "      <th>10</th>\n",
       "      <td>0.800</td>\n",
       "    </tr>\n",
       "    <tr>\n",
       "      <th>7</th>\n",
       "      <td>0.843</td>\n",
       "    </tr>\n",
       "    <tr>\n",
       "      <th>2</th>\n",
       "      <td>0.923</td>\n",
       "    </tr>\n",
       "    <tr>\n",
       "      <th>11</th>\n",
       "      <td>0.950</td>\n",
       "    </tr>\n",
       "    <tr>\n",
       "      <th>12</th>\n",
       "      <td>0.350</td>\n",
       "    </tr>\n",
       "  </tbody>\n",
       "</table>\n",
       "</div>"
      ],
      "text/plain": [
       "    Yield (%)\n",
       "10      0.800\n",
       "7       0.843\n",
       "2       0.923\n",
       "11      0.950\n",
       "12      0.350"
      ]
     },
     "execution_count": 105,
     "metadata": {},
     "output_type": "execute_result"
    }
   ],
   "source": [
    "y_test_2"
   ]
  },
  {
   "cell_type": "code",
   "execution_count": 106,
   "id": "f02bc4b0",
   "metadata": {},
   "outputs": [
    {
     "data": {
      "text/plain": [
       "array([[0.71126953],\n",
       "       [0.74740261],\n",
       "       [1.00775609],\n",
       "       [0.8720129 ],\n",
       "       [0.45794736]])"
      ]
     },
     "execution_count": 106,
     "metadata": {},
     "output_type": "execute_result"
    }
   ],
   "source": [
    "pred_test_LR_v1"
   ]
  },
  {
   "cell_type": "code",
   "execution_count": 107,
   "id": "e5bb2b36",
   "metadata": {},
   "outputs": [],
   "source": [
    "#Falta:\n",
    "# tentar retreinar o mesmo modelo antigo com os dados antigos e os novos (talvez role, talvez nao, ver oq seria melhor)\n",
    "# testar outros train/test split só com transmitancia, ver se muda muito os scores\n",
    "# pensar se vale a pena por infos de consistencia ou passagens no homogeneizador?"
   ]
  },
  {
   "cell_type": "code",
   "execution_count": 44,
   "id": "adc48e08",
   "metadata": {
    "scrolled": true
   },
   "outputs": [
    {
     "data": {
      "text/html": [
       "<div>\n",
       "<style scoped>\n",
       "    .dataframe tbody tr th:only-of-type {\n",
       "        vertical-align: middle;\n",
       "    }\n",
       "\n",
       "    .dataframe tbody tr th {\n",
       "        vertical-align: top;\n",
       "    }\n",
       "\n",
       "    .dataframe thead th {\n",
       "        text-align: right;\n",
       "    }\n",
       "</style>\n",
       "<table border=\"1\" class=\"dataframe\">\n",
       "  <thead>\n",
       "    <tr style=\"text-align: right;\">\n",
       "      <th></th>\n",
       "      <th>Sample</th>\n",
       "      <th>Cationic demand (µeq/g)</th>\n",
       "      <th>Transmittance at 600 nm (%)</th>\n",
       "      <th>Yield of nanofibrillation (%)</th>\n",
       "    </tr>\n",
       "  </thead>\n",
       "  <tbody>\n",
       "    <tr>\n",
       "      <th>0</th>\n",
       "      <td>Eucamec(3)</td>\n",
       "      <td>184.000000</td>\n",
       "      <td>0.0950</td>\n",
       "      <td>0.102366</td>\n",
       "    </tr>\n",
       "    <tr>\n",
       "      <th>1</th>\n",
       "      <td>Eucamec(3+1)</td>\n",
       "      <td>195.000000</td>\n",
       "      <td>0.1070</td>\n",
       "      <td>0.115687</td>\n",
       "    </tr>\n",
       "    <tr>\n",
       "      <th>2</th>\n",
       "      <td>Eucamec(3+3)</td>\n",
       "      <td>208.000000</td>\n",
       "      <td>0.1320</td>\n",
       "      <td>0.165490</td>\n",
       "    </tr>\n",
       "    <tr>\n",
       "      <th>3</th>\n",
       "      <td>Eucamec(3+3+1)</td>\n",
       "      <td>213.000000</td>\n",
       "      <td>0.1660</td>\n",
       "      <td>0.189679</td>\n",
       "    </tr>\n",
       "    <tr>\n",
       "      <th>4</th>\n",
       "      <td>Eucamec(3+3+3)</td>\n",
       "      <td>215.000000</td>\n",
       "      <td>0.1940</td>\n",
       "      <td>0.204288</td>\n",
       "    </tr>\n",
       "    <tr>\n",
       "      <th>...</th>\n",
       "      <td>...</td>\n",
       "      <td>...</td>\n",
       "      <td>...</td>\n",
       "      <td>...</td>\n",
       "    </tr>\n",
       "    <tr>\n",
       "      <th>149</th>\n",
       "      <td>T5 3*3  2%</td>\n",
       "      <td>1124.377617</td>\n",
       "      <td>0.2890</td>\n",
       "      <td>0.400000</td>\n",
       "    </tr>\n",
       "    <tr>\n",
       "      <th>150</th>\n",
       "      <td>T5 3*3 + 3*6 2%</td>\n",
       "      <td>1299.364299</td>\n",
       "      <td>0.5294</td>\n",
       "      <td>0.800000</td>\n",
       "    </tr>\n",
       "    <tr>\n",
       "      <th>151</th>\n",
       "      <td>T5 3*3 + 3*6 +3*9 2%</td>\n",
       "      <td>1336.379268</td>\n",
       "      <td>0.6940</td>\n",
       "      <td>0.950000</td>\n",
       "    </tr>\n",
       "    <tr>\n",
       "      <th>152</th>\n",
       "      <td>T5 3*3  3%</td>\n",
       "      <td>1353.992713</td>\n",
       "      <td>0.2700</td>\n",
       "      <td>0.350000</td>\n",
       "    </tr>\n",
       "    <tr>\n",
       "      <th>153</th>\n",
       "      <td>T5 3*3 + 3*6  3%</td>\n",
       "      <td>1414.360612</td>\n",
       "      <td>0.4315</td>\n",
       "      <td>0.680000</td>\n",
       "    </tr>\n",
       "  </tbody>\n",
       "</table>\n",
       "<p>154 rows × 4 columns</p>\n",
       "</div>"
      ],
      "text/plain": [
       "                   Sample  Cationic demand (µeq/g)  \\\n",
       "0              Eucamec(3)               184.000000   \n",
       "1            Eucamec(3+1)               195.000000   \n",
       "2            Eucamec(3+3)               208.000000   \n",
       "3          Eucamec(3+3+1)               213.000000   \n",
       "4          Eucamec(3+3+3)               215.000000   \n",
       "..                    ...                      ...   \n",
       "149            T5 3*3  2%              1124.377617   \n",
       "150       T5 3*3 + 3*6 2%              1299.364299   \n",
       "151  T5 3*3 + 3*6 +3*9 2%              1336.379268   \n",
       "152            T5 3*3  3%              1353.992713   \n",
       "153      T5 3*3 + 3*6  3%              1414.360612   \n",
       "\n",
       "     Transmittance at 600 nm (%)  Yield of nanofibrillation (%)  \n",
       "0                         0.0950                       0.102366  \n",
       "1                         0.1070                       0.115687  \n",
       "2                         0.1320                       0.165490  \n",
       "3                         0.1660                       0.189679  \n",
       "4                         0.1940                       0.204288  \n",
       "..                           ...                            ...  \n",
       "149                       0.2890                       0.400000  \n",
       "150                       0.5294                       0.800000  \n",
       "151                       0.6940                       0.950000  \n",
       "152                       0.2700                       0.350000  \n",
       "153                       0.4315                       0.680000  \n",
       "\n",
       "[154 rows x 4 columns]"
      ]
     },
     "execution_count": 44,
     "metadata": {},
     "output_type": "execute_result"
    }
   ],
   "source": [
    "# downloading to this notebook the excel file with TEMPO data and enzymatic/mec data\n",
    "\n",
    "df_todos = pd.read_excel(r\"C:\\Users\\giova\\tabela_todos_dados.xlsx\")\n",
    "\n",
    "df_todos"
   ]
  },
  {
   "cell_type": "code",
   "execution_count": 45,
   "id": "6db47799",
   "metadata": {},
   "outputs": [
    {
     "data": {
      "text/plain": [
       "Index(['Sample', 'Cationic demand (µeq/g)', 'Transmittance at 600 nm (%)',\n",
       "       'Yield of nanofibrillation (%)'],\n",
       "      dtype='object')"
      ]
     },
     "execution_count": 45,
     "metadata": {},
     "output_type": "execute_result"
    }
   ],
   "source": [
    "df_todos.columns"
   ]
  },
  {
   "cell_type": "code",
   "execution_count": 48,
   "id": "a6e3476b",
   "metadata": {},
   "outputs": [],
   "source": [
    "X_df_trans = df_todos[['Transmittance at 600 nm (%)']]\n",
    "y_df_todos = df_todos[['Yield of nanofibrillation (%)']]"
   ]
  },
  {
   "cell_type": "code",
   "execution_count": 49,
   "id": "e226281e",
   "metadata": {},
   "outputs": [],
   "source": [
    "X_train_td, X_test_td, y_train_td, y_test_td = train_test_split(X_df_trans, y_df_todos,\n",
    "                                                        test_size = 0.34,\n",
    "                                                        random_state =8\n",
    "                                                       )"
   ]
  },
  {
   "cell_type": "code",
   "execution_count": 51,
   "id": "4aae88d7",
   "metadata": {
    "scrolled": false
   },
   "outputs": [
    {
     "name": "stdout",
     "output_type": "stream",
     "text": [
      "R2 score: 0.9960237447783605\n",
      "MAE: 0.007210926360705227\n",
      "MAPE: 0.040939400345800694\n",
      "RSME: 0.012233173265949254\n"
     ]
    },
    {
     "data": {
      "image/png": "[encoded data removed]",
      "text/plain": [
       "<Figure size 640x480 with 1 Axes>"
      ]
     },
     "metadata": {},
     "output_type": "display_data"
    }
   ],
   "source": [
    "RF_randomodel_v4 = RandomForestRegressor(random_state=0)\n",
    "RF_randomodel_v4.fit(X_train_td, y_train_td.values.ravel())\n",
    "pred_RF_v2 = RF_randomodel_v4.predict(X_train_td)\n",
    "\n",
    "print(\"R2 score:\", r2_score(y_train_td, pred_RF_v2))\n",
    "print(\"MAE:\", mean_absolute_error(y_train_td, pred_RF_v2))\n",
    "print(\"MAPE:\", mean_absolute_percentage_error(y_train_td, pred_RF_v2))\n",
    "print(\"RSME:\", mean_squared_error(y_train_td, pred_RF_v2, squared = False))\n",
    "\n",
    "fig, ax = plt.subplots()\n",
    "ax.scatter(y_train_td, pred_RF_v2, edgecolors=(0, 0, 0))\n",
    "ax.plot([y_train_td.min(), y_train_td.max()], [y_train_td.min(), y_train_td.max()], \"k--\", lw=2)\n",
    "ax.set_xlabel(\"Measured\")\n",
    "ax.set_ylabel(\"Predicted\")\n",
    "plt.show()"
   ]
  },
  {
   "cell_type": "code",
   "execution_count": 52,
   "id": "51485511",
   "metadata": {
    "scrolled": false
   },
   "outputs": [
    {
     "name": "stdout",
     "output_type": "stream",
     "text": [
      "R2 score: 0.9709584797861347\n",
      "MAE: 0.0163443662480698\n",
      "MAPE: 0.11486673970574171\n",
      "RSME: 0.026635512186189807\n"
     ]
    },
    {
     "data": {
      "image/png": "[encoded data removed]",
      "text/plain": [
       "<Figure size 640x480 with 1 Axes>"
      ]
     },
     "metadata": {},
     "output_type": "display_data"
    }
   ],
   "source": [
    "# fazendo o teste com test subset \n",
    "pred_test_RF_v2 = RF_randomodel_v4.predict(X_test_td)\n",
    "\n",
    "print(\"R2 score:\", r2_score(y_test_td, pred_test_RF_v2))\n",
    "print(\"MAE:\", mean_absolute_error(y_test_td, pred_test_RF_v2))\n",
    "print(\"MAPE:\", mean_absolute_percentage_error(y_test_td, pred_test_RF_v2))\n",
    "print(\"RSME:\", mean_squared_error(y_test_td, pred_test_RF_v2, squared = False))\n",
    "\n",
    "fig, ax = plt.subplots()\n",
    "ax.scatter(y_test_td, pred_test_RF_v2, edgecolors=(0, 0, 0))\n",
    "ax.plot([y_test_td.min(), y_test_td.max()], [y_test_td.min(), y_test_td.max()], \"k--\", lw=2)\n",
    "ax.set_xlabel(\"Measured\")\n",
    "ax.set_ylabel(\"Predicted\")\n",
    "plt.show()"
   ]
  },
  {
   "cell_type": "code",
   "execution_count": 70,
   "id": "05b57acd",
   "metadata": {
    "scrolled": false
   },
   "outputs": [
    {
     "name": "stdout",
     "output_type": "stream",
     "text": [
      "R2 score: 0.9953153126115114\n",
      "MAE: 0.008059454571187993\n",
      "MAPE: 0.0469352288092773\n",
      "RSME: 0.013278294861836796\n"
     ]
    },
    {
     "data": {
      "image/png": "[encoded data removed]",
      "text/plain": [
       "<Figure size 640x480 with 1 Axes>"
      ]
     },
     "metadata": {},
     "output_type": "display_data"
    }
   ],
   "source": [
    "RF_randomodel_v4 = RandomForestRegressor(n_estimators = 10 , min_samples_leaf= 1, random_state=0)\n",
    "RF_randomodel_v4.fit(X_train_td, y_train_td.values.ravel())\n",
    "pred_RF_v2 = RF_randomodel_v4.predict(X_train_td)\n",
    "\n",
    "print(\"R2 score:\", r2_score(y_train_td, pred_RF_v2))\n",
    "print(\"MAE:\", mean_absolute_error(y_train_td, pred_RF_v2))\n",
    "print(\"MAPE:\", mean_absolute_percentage_error(y_train_td, pred_RF_v2))\n",
    "print(\"RSME:\", mean_squared_error(y_train_td, pred_RF_v2, squared = False))\n",
    "\n",
    "fig, ax = plt.subplots()\n",
    "ax.scatter(y_train_td, pred_RF_v2, edgecolors=(0, 0, 0))\n",
    "ax.plot([y_train_td.min(), y_train_td.max()], [y_train_td.min(), y_train_td.max()], \"k--\", lw=2)\n",
    "ax.set_xlabel(\"Measured\")\n",
    "ax.set_ylabel(\"Predicted\")\n",
    "plt.show()"
   ]
  },
  {
   "cell_type": "code",
   "execution_count": 71,
   "id": "df859248",
   "metadata": {},
   "outputs": [
    {
     "name": "stdout",
     "output_type": "stream",
     "text": [
      "R2 score: 0.9690093363101185\n",
      "MAE: 0.017408309262765532\n",
      "MAPE: 0.11796470820557285\n",
      "RSME: 0.027514828984637366\n"
     ]
    },
    {
     "data": {
      "image/png": "[encoded data removed]",
      "text/plain": [
       "<Figure size 640x480 with 1 Axes>"
      ]
     },
     "metadata": {},
     "output_type": "display_data"
    }
   ],
   "source": [
    "# fazendo o teste com test subset \n",
    "pred_test_RF_v2 = RF_randomodel_v4.predict(X_test_td)\n",
    "\n",
    "print(\"R2 score:\", r2_score(y_test_td, pred_test_RF_v2))\n",
    "print(\"MAE:\", mean_absolute_error(y_test_td, pred_test_RF_v2))\n",
    "print(\"MAPE:\", mean_absolute_percentage_error(y_test_td, pred_test_RF_v2))\n",
    "print(\"RSME:\", mean_squared_error(y_test_td, pred_test_RF_v2, squared = False))\n",
    "\n",
    "fig, ax = plt.subplots()\n",
    "ax.scatter(y_test_td, pred_test_RF_v2, edgecolors=(0, 0, 0))\n",
    "ax.plot([y_test_td.min(), y_test_td.max()], [y_test_td.min(), y_test_td.max()], \"k--\", lw=2)\n",
    "ax.set_xlabel(\"Measured\")\n",
    "ax.set_ylabel(\"Predicted\")\n",
    "plt.show()"
   ]
  },
  {
   "cell_type": "code",
   "execution_count": 72,
   "id": "73d0e603",
   "metadata": {},
   "outputs": [
    {
     "name": "stderr",
     "output_type": "stream",
     "text": [
      "C:\\Users\\giova\\anaconda3\\Lib\\site-packages\\sklearn\\base.py:347: InconsistentVersionWarning: Trying to unpickle estimator DecisionTreeRegressor from version 1.0.1 when using version 1.3.0. This might lead to breaking code or invalid results. Use at your own risk. For more info please refer to:\n",
      "https://scikit-learn.org/stable/model_persistence.html#security-maintainability-limitations\n",
      "  warnings.warn(\n"
     ]
    },
    {
     "ename": "ValueError",
     "evalue": "node array from the pickle has an incompatible dtype:\n- expected: {'names': ['left_child', 'right_child', 'feature', 'threshold', 'impurity', 'n_node_samples', 'weighted_n_node_samples', 'missing_go_to_left'], 'formats': ['<i8', '<i8', '<i8', '<f8', '<f8', '<i8', '<f8', 'u1'], 'offsets': [0, 8, 16, 24, 32, 40, 48, 56], 'itemsize': 64}\n- got     : [('left_child', '<i8'), ('right_child', '<i8'), ('feature', '<i8'), ('threshold', '<f8'), ('impurity', '<f8'), ('n_node_samples', '<i8'), ('weighted_n_node_samples', '<f8')]",
     "output_type": "error",
     "traceback": [
      "\u001b[1;31m---------------------------------------------------------------------------\u001b[0m",
      "\u001b[1;31mValueError\u001b[0m                                Traceback (most recent call last)",
      "Cell \u001b[1;32mIn[72], line 6\u001b[0m\n\u001b[0;32m      3\u001b[0m \u001b[38;5;28;01mfrom\u001b[39;00m \u001b[38;5;21;01mpickle\u001b[39;00m \u001b[38;5;28;01mimport\u001b[39;00m load\n\u001b[0;32m      5\u001b[0m \u001b[38;5;66;03m# load the model\u001b[39;00m\n\u001b[1;32m----> 6\u001b[0m model_RF_yield_paper \u001b[38;5;241m=\u001b[39m load(\u001b[38;5;28mopen\u001b[39m(\u001b[38;5;124m'\u001b[39m\u001b[38;5;124mRF_results_compiled_3_YI_case2.pkl\u001b[39m\u001b[38;5;124m'\u001b[39m, \u001b[38;5;124m'\u001b[39m\u001b[38;5;124mrb\u001b[39m\u001b[38;5;124m'\u001b[39m))\n",
      "File \u001b[1;32msklearn\\tree\\_tree.pyx:714\u001b[0m, in \u001b[0;36msklearn.tree._tree.Tree.__setstate__\u001b[1;34m()\u001b[0m\n",
      "File \u001b[1;32msklearn\\tree\\_tree.pyx:1418\u001b[0m, in \u001b[0;36msklearn.tree._tree._check_node_ndarray\u001b[1;34m()\u001b[0m\n",
      "\u001b[1;31mValueError\u001b[0m: node array from the pickle has an incompatible dtype:\n- expected: {'names': ['left_child', 'right_child', 'feature', 'threshold', 'impurity', 'n_node_samples', 'weighted_n_node_samples', 'missing_go_to_left'], 'formats': ['<i8', '<i8', '<i8', '<f8', '<f8', '<i8', '<f8', 'u1'], 'offsets': [0, 8, 16, 24, 32, 40, 48, 56], 'itemsize': 64}\n- got     : [('left_child', '<i8'), ('right_child', '<i8'), ('feature', '<i8'), ('threshold', '<f8'), ('impurity', '<f8'), ('n_node_samples', '<i8'), ('weighted_n_node_samples', '<f8')]"
     ]
    }
   ],
   "source": [
    "#usando o modelo otimizado do ultimo paper\n",
    "\n",
    "from pickle import load\n",
    "\n",
    "# load the model\n",
    "model_RF_yield_paper = load(open('RF_results_compiled_3_YI_case2.pkl', 'rb'))"
   ]
  },
  {
   "cell_type": "code",
   "execution_count": 73,
   "id": "0f81efe7",
   "metadata": {},
   "outputs": [],
   "source": [
    "# apparently the model was trained in an old version and now doesn't run in my current updated scikit learn\n",
    "#check how to tackle this"
   ]
  },
  {
   "cell_type": "code",
   "execution_count": 22,
   "id": "45141da9",
   "metadata": {},
   "outputs": [],
   "source": [
    "#13/02/2023 note\n",
    "#RF_randomodel_v6_alt_MODEL_TS = 'RF_randomodel_v6_alt_MODEL_TS.pkl'\n",
    "#pickle.dump(RF_randomodel_v6_alt, open(RF_randomodel_v6_alt_MODEL_TS, 'wb'))"
   ]
  }
 ],
 "metadata": {
  "kernelspec": {
   "display_name": "Python 3 (ipykernel)",
   "language": "python",
   "name": "python3"
  },
  "language_info": {
   "codemirror_mode": {
    "name": "ipython",
    "version": 3
   },
   "file_extension": ".py",
   "mimetype": "text/x-python",
   "name": "python",
   "nbconvert_exporter": "python",
   "pygments_lexer": "ipython3",
   "version": "3.11.4"
  }
 },
 "nbformat": 4,
 "nbformat_minor": 5
}
